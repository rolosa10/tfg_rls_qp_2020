{
 "cells": [
  {
   "cell_type": "markdown",
   "metadata": {},
   "source": [
    "# Distribució freqüència\n",
    "\n",
    "La distribució de freqüències de les similituds entre frases s'ha calculat per a cada categoria mitjançant la combinació encoder+mètrica que funciona millor: Word2Vec[mean] + cosine similarity. "
   ]
  },
  {
   "cell_type": "markdown",
   "metadata": {},
   "source": [
    "### Importo biblioteques i dependències"
   ]
  },
  {
   "cell_type": "code",
   "execution_count": 3,
   "metadata": {},
   "outputs": [],
   "source": [
    "#!pip install unidecode\n",
    "#!pip install gensim\n",
    "import matplotlib.pyplot as plt\n",
    "import pandas as pd\n",
    "import glob\n",
    "import os\n",
    "import pickle\n",
    "import numpy as np\n",
    "from sklearn.feature_extraction.text import CountVectorizer, TfidfVectorizer\n",
    "from nltk.corpus import stopwords\n",
    "from nltk.stem import SnowballStemmer\n",
    "import nltk\n",
    "import unidecode\n",
    "import re\n",
    "from sklearn import metrics\n",
    "import time\n",
    "import collections\n",
    "import matplotlib.pyplot as plt\n",
    "from sklearn.metrics.pairwise import cosine_similarity\n",
    "from gensim.models import Word2Vec\n",
    "#nltk.download('punkt')\n",
    "#nltk.download('stopwords')"
   ]
  },
  {
   "cell_type": "markdown",
   "metadata": {},
   "source": [
    "### Càrrega del conjunt de dades"
   ]
  },
  {
   "cell_type": "code",
   "execution_count": 4,
   "metadata": {},
   "outputs": [],
   "source": [
    "stemmer = SnowballStemmer('spanish')"
   ]
  },
  {
   "cell_type": "code",
   "execution_count": 5,
   "metadata": {},
   "outputs": [],
   "source": [
    "#LListo tots els tfg dins de la categoria mecanica de fluids\n",
    "llista_text_documents_mecanica_fluids = []\n",
    "for file in glob.glob('TFG/00Data/dataset_txt/Electronica/*'):\n",
    "    with open(file,'r') as txt:\n",
    "        llista_text_documents_mecanica_fluids.append(txt.read())"
   ]
  },
  {
   "cell_type": "code",
   "execution_count": 6,
   "metadata": {},
   "outputs": [
    {
     "data": {
      "text/plain": [
       "22"
      ]
     },
     "execution_count": 6,
     "metadata": {},
     "output_type": "execute_result"
    }
   ],
   "source": [
    "len(llista_text_documents_mecanica_fluids)"
   ]
  },
  {
   "cell_type": "markdown",
   "metadata": {},
   "source": [
    "### Distribució de freqüència vs similitud entre tots els documents d'una mateixa categoria mitjançant Word2Vec[mean] + Cosine Similarity"
   ]
  },
  {
   "cell_type": "code",
   "execution_count": 7,
   "metadata": {},
   "outputs": [],
   "source": [
    "#Funció que permet pre-processar el text dins de qualsevol tfg i separar-lo en sentences\n",
    "def clean_raw_text (documento):\n",
    "    text_sentences = []\n",
    "    text = str(documento).replace('\\n',' ')\n",
    "    text = nltk.sent_tokenize(text)\n",
    "    \n",
    "    for sentence in text:\n",
    "        words = []\n",
    "        word_tokens = nltk.word_tokenize(sentence)\n",
    "        filtered_text = \" \".join([w for w in word_tokens if not w in stopwords.words('spanish')])\n",
    "        stemmed_text = \" \".join(stemmer.stem(word) for word in nltk.word_tokenize(filtered_text))  \n",
    "        no_punctuaction_text = re.sub(r'[^\\w\\s]','',stemmed_text)\n",
    "        no_accents = unidecode.unidecode(no_punctuaction_text)\n",
    "        no_digits_text = re.sub('\\d', '', no_accents)\n",
    "        for word in nltk.word_tokenize(no_digits_text):\n",
    "            if len(word) >=2:\n",
    "                words.append(word)\n",
    "                                \n",
    "        no_digits_text = \" \".join(words)\n",
    "        clean1 = re.sub(' +', ' ',no_digits_text)\n",
    "        full_clean = clean1.strip()    \n",
    "        text_sentences.append(full_clean)\n",
    "        \n",
    "    text_sentences = [x for x in text_sentences if x !='']\n",
    "    return(text_sentences)"
   ]
  },
  {
   "cell_type": "code",
   "execution_count": 8,
   "metadata": {},
   "outputs": [],
   "source": [
    "#Es crea una llista de llistes on per a cada document es llisten les diferents sentences pre-processades\n",
    "document_sentences = []\n",
    "for i in range (0,len(llista_text_documents_mecanica_fluids)):\n",
    "    document_sentences.append(clean_raw_text(llista_text_documents_mecanica_fluids[i]))"
   ]
  },
  {
   "cell_type": "code",
   "execution_count": 9,
   "metadata": {},
   "outputs": [
    {
     "name": "stdout",
     "output_type": "stream",
     "text": [
      "214264\n",
      "CPU times: user 3min 4s, sys: 16.9 s, total: 3min 21s\n",
      "Wall time: 3min 26s\n"
     ]
    }
   ],
   "source": [
    "%%time\n",
    "#Creo el vocabulari pel Word2Vec amb totes les paraules dels documents base\n",
    "\n",
    "\n",
    "vocab_words = []\n",
    "\n",
    "for tfg in llista_text_documents_mecanica_fluids:\n",
    "    tfg = tfg.replace('\\n',' ')\n",
    "    for parag in tfg.split(' '):\n",
    "        words = []\n",
    "        word_tokens = nltk.word_tokenize(parag)\n",
    "        filtered_text = \" \".join([w for w in word_tokens if not w in stopwords.words('spanish')])\n",
    "        stemmed_text = \" \".join(stemmer.stem(word) for word in nltk.word_tokenize(filtered_text))\n",
    "        no_punctuaction_text = re.sub(r'[^\\w\\s]','',stemmed_text)\n",
    "        no_accents = unidecode.unidecode(no_punctuaction_text)\n",
    "        no_digits_text = re.sub('\\d', '', no_accents)\n",
    "        for word in nltk.word_tokenize(no_digits_text):\n",
    "            if len(word) >=2:\n",
    "                words.append(word)\n",
    "                                \n",
    "        no_digits_text = \" \".join(words)\n",
    "        clean1 = re.sub(' +', ' ',no_digits_text)\n",
    "        full_clean = clean1.strip()       \n",
    "        vocab_words.append(nltk.word_tokenize(full_clean))\n",
    "    vocab_words\n",
    "vocab_words = [x for x in vocab_words if x !=[]]\n",
    "print(len(vocab_words))\n"
   ]
  },
  {
   "cell_type": "code",
   "execution_count": 10,
   "metadata": {},
   "outputs": [],
   "source": [
    "# Inicialitzo el Word2Vec amb totes les paraules dels documents base. \n",
    "#IMPORTANT: Especifico min_count = 1 per tal de no haver de filtrar les paraules.\n",
    "w2v_model = Word2Vec(vocab_words,\n",
    "                     size=50,\n",
    "                     min_count=1,\n",
    "                     #min_count=3,\n",
    "                     window=4,\n",
    "                     workers=4) \n",
    "\n",
    "w2v_model.init_sims(replace=True)  # Normalizes the vectors in the word2vec class."
   ]
  },
  {
   "cell_type": "code",
   "execution_count": 11,
   "metadata": {},
   "outputs": [
    {
     "data": {
      "text/plain": [
       "15301"
      ]
     },
     "execution_count": 11,
     "metadata": {},
     "output_type": "execute_result"
    }
   ],
   "source": [
    "len(w2v_model.wv.vocab) #Vocabulari del word2vec"
   ]
  },
  {
   "cell_type": "code",
   "execution_count": 12,
   "metadata": {},
   "outputs": [],
   "source": [
    "#Creo una llista de llistes on tinc les diferents frases tokenitzades de cada document.\n",
    "documents_frases_tokenitzades = []\n",
    "for i in range (0,len(document_sentences)):\n",
    "    frases_tokenitzades = []\n",
    "    for sentence in document_sentences[i]:\n",
    "        frases_tokenitzades.append(nltk.word_tokenize(sentence))#Tokenitzo cada frase, obtenint una llista de paraules per a cada frase\n",
    "    documents_frases_tokenitzades.append(frases_tokenitzades)\n",
    "    "
   ]
  },
  {
   "cell_type": "code",
   "execution_count": 13,
   "metadata": {},
   "outputs": [],
   "source": [
    "#Transformo a vectors les paraules de cada frase de cada document a partir del wor2vec.\n",
    "#No ha estat necessari filtrar les paraules perquè totes ja formen part del vocabulari. \n",
    "document_sentence_vectors = []\n",
    "for i in range (0,len(documents_frases_tokenitzades)):\n",
    "    frase_vectorizada = []\n",
    "    for sentence in documents_frases_tokenitzades[i]:\n",
    "        mean = []\n",
    "        for word in sentence:\n",
    "            mean.append(w2v_model.wv.get_vector(word))\n",
    "        mean = np.array(mean).mean(axis=0)\n",
    "        frase_vectorizada.append(mean)\n",
    "    document_sentence_vectors.append(frase_vectorizada)"
   ]
  },
  {
   "cell_type": "code",
   "execution_count": 14,
   "metadata": {},
   "outputs": [],
   "source": [
    "#Transformo els vectors d'una dimensió a dues dimensions per tal de poder aplicar posteriorment cosine similarity\n",
    "document_sentence_vectors_good_format = []\n",
    "for document in document_sentence_vectors:\n",
    "    vectorizado_bueno = []\n",
    "    for vector in document:\n",
    "        vectorizado_bueno.append([vector])\n",
    "    document_sentence_vectors_good_format.append(vectorizado_bueno)"
   ]
  },
  {
   "cell_type": "code",
   "execution_count": 15,
   "metadata": {},
   "outputs": [],
   "source": [
    "def frases_similitud_coseno(document1,document2):\n",
    "    similarities_between_sentences = []\n",
    "    for vector1 in document1:\n",
    "        for vector2 in document2:\n",
    "            similarities_between_sentences.append(cosine_similarity(vector1,vector2))\n",
    "    return(similarities_between_sentences)"
   ]
  },
  {
   "cell_type": "code",
   "execution_count": 16,
   "metadata": {},
   "outputs": [
    {
     "name": "stdout",
     "output_type": "stream",
     "text": [
      "CPU times: user 11h 24min 26s, sys: 4min, total: 11h 28min 27s\n",
      "Wall time: 11h 33min 21s\n"
     ]
    }
   ],
   "source": [
    "%%time\n",
    "## Càlcul similituds entre frases mitjançant cosine similarity\n",
    "similarities_between_sentences = []\n",
    "for j in range(0,len(document_sentence_vectors_good_format)):\n",
    "    similitud_entre_dos_documents = []\n",
    "    for i in range(0,len(document_sentence_vectors_good_format)):\n",
    "        if j != i:\n",
    "            similitud_entre_dos_documents.append(frases_similitud_coseno(document_sentence_vectors_good_format[j],document_sentence_vectors_good_format[i]))\n",
    "    similarities_between_sentences.append(similitud_entre_dos_documents) "
   ]
  },
  {
   "cell_type": "code",
   "execution_count": 17,
   "metadata": {},
   "outputs": [
    {
     "name": "stdout",
     "output_type": "stream",
     "text": [
      "Número de similituds computades: 236775090\n"
     ]
    }
   ],
   "source": [
    "#Número de similituds totals computades\n",
    "llista_numero_similituds = []\n",
    "for document in similarities_between_sentences:\n",
    "    for another_document in document:\n",
    "        llista_numero_similituds.append(len(another_document))\n",
    "print('Número de similituds computades: '+str(sum(llista_numero_similituds)))"
   ]
  },
  {
   "cell_type": "code",
   "execution_count": 18,
   "metadata": {},
   "outputs": [],
   "source": [
    "#Afegeixo totes les similituds computades a una única llista\n",
    "llista_similituds = []\n",
    "for document in similarities_between_sentences:\n",
    "    for another_document in document:\n",
    "        for similarity in another_document:\n",
    "            llista_similituds.append(similarity)"
   ]
  },
  {
   "cell_type": "code",
   "execution_count": 19,
   "metadata": {},
   "outputs": [
    {
     "data": {
      "text/plain": [
       "(55651955, 2)"
      ]
     },
     "execution_count": 19,
     "metadata": {},
     "output_type": "execute_result"
    }
   ],
   "source": [
    "#Calculo les unique similituds i els cops que apareix cadascuna\n",
    "(unique,counts) = np.unique(llista_similituds, return_counts = True)\n",
    "freq = np.asarray((unique,counts)).T\n",
    "freq.shape"
   ]
  },
  {
   "cell_type": "code",
   "execution_count": 20,
   "metadata": {},
   "outputs": [],
   "source": [
    "x = freq[:,0] #Returns the first column"
   ]
  },
  {
   "cell_type": "code",
   "execution_count": 21,
   "metadata": {},
   "outputs": [
    {
     "data": {
      "text/plain": [
       "0.024763432972851607"
      ]
     },
     "execution_count": 21,
     "metadata": {},
     "output_type": "execute_result"
    }
   ],
   "source": [
    "#Mitjana de la distribució de freqüències\n",
    "x.mean()"
   ]
  },
  {
   "cell_type": "code",
   "execution_count": 22,
   "metadata": {},
   "outputs": [
    {
     "data": {
      "text/plain": [
       "0.15801163071899615"
      ]
     },
     "execution_count": 22,
     "metadata": {},
     "output_type": "execute_result"
    }
   ],
   "source": [
    "#Desviació estàndar de les distribucions de freqüència\n",
    "x.std()"
   ]
  },
  {
   "cell_type": "code",
   "execution_count": 35,
   "metadata": {},
   "outputs": [
    {
     "name": "stdout",
     "output_type": "stream",
     "text": [
      "CPU times: user 710 ms, sys: 17.1 ms, total: 727 ms\n",
      "Wall time: 730 ms\n"
     ]
    },
    {
     "data": {
      "image/png": "[encoded data removed]",
      "text/plain": [
       "<Figure size 432x288 with 1 Axes>"
      ]
     },
     "metadata": {},
     "output_type": "display_data"
    }
   ],
   "source": [
    "%%time\n",
    "plt.hist(x=x,rwidth=0.7, bins=40,color='lightskyblue')\n",
    "plt.grid()\n",
    "plt.xlabel('Similituds')\n",
    "plt.ylabel('Freqüència')\n",
    "plt.title('Distribució de freqüències - Oracions electrònica')\n",
    "plt.axvline(x=0.44,color='red',linestyle='dashed',label='llindar')\n",
    "plt.axvline(x=0.024763, color = 'purple',label='mitjana')\n",
    "plt.axvline(x=0.15801163,color='green',label='desviació_estàndar')\n",
    "plt.axvline(x=-0.15801163,color='green')\n",
    "plt.legend(prop={'size': 8})"
   ]
  },
  {
   "cell_type": "code",
   "execution_count": 32,
   "metadata": {},
   "outputs": [
    {
     "data": {
      "text/plain": [
       "699937"
      ]
     },
     "execution_count": 32,
     "metadata": {},
     "output_type": "execute_result"
    }
   ],
   "source": [
    "similituds_majors_035 = []\n",
    "for similarity in x:\n",
    "    if similarity > 0.44:\n",
    "        similituds_majors_035.append(similarity)\n",
    "len(similituds_majors_035)"
   ]
  },
  {
   "cell_type": "code",
   "execution_count": 33,
   "metadata": {},
   "outputs": [
    {
     "data": {
      "text/plain": [
       "98.74229575582744"
      ]
     },
     "execution_count": 33,
     "metadata": {},
     "output_type": "execute_result"
    }
   ],
   "source": [
    "100-(len(similituds_majors_035)/len(x))*100"
   ]
  }
 ],
 "metadata": {
  "environment": {
   "name": "common-cpu.m47",
   "type": "gcloud",
   "uri": "gcr.io/deeplearning-platform-release/base-cpu:m47"
  },
  "kernelspec": {
   "display_name": "Python 3",
   "language": "python",
   "name": "python3"
  },
  "language_info": {
   "codemirror_mode": {
    "name": "ipython",
    "version": 3
   },
   "file_extension": ".py",
   "mimetype": "text/x-python",
   "name": "python",
   "nbconvert_exporter": "python",
   "pygments_lexer": "ipython3",
   "version": "3.6.5"
  }
 },
 "nbformat": 4,
 "nbformat_minor": 4
}
