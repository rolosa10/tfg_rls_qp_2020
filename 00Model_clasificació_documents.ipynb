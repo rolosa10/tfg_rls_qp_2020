{
 "cells": [
  {
   "cell_type": "markdown",
   "metadata": {},
   "source": [
    "# Models de classificació de documents en múltiples categories"
   ]
  },
  {
   "cell_type": "markdown",
   "metadata": {},
   "source": [
    "### Importació de biblioteques/dependències necessàries"
   ]
  },
  {
   "cell_type": "code",
   "execution_count": 205,
   "metadata": {},
   "outputs": [],
   "source": [
    "import matplotlib.pyplot as plt\n",
    "import pandas as pd\n",
    "import glob\n",
    "import os\n",
    "import pickle\n",
    "from googletrans import Translator\n",
    "import numpy as np \n",
    "from sklearn.model_selection import train_test_split\n",
    "from sklearn.feature_extraction.text import CountVectorizer, TfidfVectorizer\n",
    "from nltk.corpus import stopwords\n",
    "from sklearn.svm import SVC\n",
    "from nltk.stem import SnowballStemmer\n",
    "import nltk\n",
    "import unidecode\n",
    "import re\n",
    "from sklearn.model_selection import KFold\n",
    "from sklearn.model_selection import cross_val_score\n",
    "from sklearn.model_selection import GridSearchCV\n",
    "from sklearn import metrics\n",
    "from sklearn.preprocessing import StandardScaler\n",
    "from sklearn.decomposition import PCA\n",
    "import time"
   ]
  },
  {
   "cell_type": "markdown",
   "metadata": {},
   "source": [
    "## Càrrega de la base de dades"
   ]
  },
  {
   "cell_type": "markdown",
   "metadata": {},
   "source": [
    "#### Càrrega de tot el dataset, eliminació stopwords, aplicació stemmer, eliminació signes d'accentuació i puntuació, eliminació dígits i transformació del text a minúscula"
   ]
  },
  {
   "cell_type": "code",
   "execution_count": 206,
   "metadata": {},
   "outputs": [],
   "source": [
    "stemmer = SnowballStemmer('spanish')"
   ]
  },
  {
   "cell_type": "code",
   "execution_count": 207,
   "metadata": {},
   "outputs": [],
   "source": [
    "#Per a cada categoria del dataset es realitza el mateix pre-processament\n",
    "pwd_list_automobil = (glob.glob(\"../00Data/dataset_pdf/Automobil/*.pdf\")) #Llistar path arxius categoria\n",
    "listado_titulos_automobil_removed_stopwords = []\n",
    "listado_titulos_automobil_stemmed = []\n",
    "titulos_automobil_preprocesados = []\n",
    "\n",
    "for element in pwd_list_automobil:\n",
    "    texto = element.split('/')[-1].split('.pdf')[0]\n",
    "    texto = texto.replace('_',' ')\n",
    "    #Tokenitzo\n",
    "    word_tokens = nltk.word_tokenize(texto) \n",
    "    #Filtro NO stopwords\n",
    "    filtered_sentence = [w for w in word_tokens if not w in stopwords.words('spanish')] \n",
    "    listado_titulos_automobil_removed_stopwords.append(\" \".join(filtered_sentence)) \n",
    "    \n",
    "for titulo in listado_titulos_automobil_removed_stopwords:\n",
    "    #Aplico stemmer sobre les paraules filtrades\n",
    "    listado_titulos_automobil_stemmed.append(\" \".join([stemmer.stem(word) for word in nltk.word_tokenize(titulo)]))\n",
    "\n",
    "for titulo in listado_titulos_automobil_stemmed:\n",
    "    #Eliminació signes de puntuació, accentuació\n",
    "    titulos_automobil_preprocesados.append(re.sub(r'[^\\w\\s]','',titulo))\n",
    "    \n",
    "    \n",
    "pwd_list_biomedicina = (glob.glob(\"../00Data/dataset_pdf/Biomedicina/*.pdf\"))\n",
    "listado_titulos_biomedicina_removed_stopwords = []\n",
    "listado_titulos_biomedicina_stemmed = []\n",
    "titulos_biomedicina_preprocesados = []\n",
    "\n",
    "for element in pwd_list_biomedicina:\n",
    "    texto = element.split('/')[-1].split('.pdf')[0]\n",
    "    texto = texto.replace('_',' ')\n",
    "    word_tokens = nltk.word_tokenize(texto) \n",
    "    filtered_sentence = [w for w in word_tokens if not w in stopwords.words('spanish')]\n",
    "    listado_titulos_biomedicina_removed_stopwords.append(\" \".join(filtered_sentence))\n",
    "    \n",
    "for titulo in listado_titulos_biomedicina_removed_stopwords:\n",
    "    listado_titulos_biomedicina_stemmed.append(\" \".join([stemmer.stem(word) for word in nltk.word_tokenize(titulo)]))\n",
    "\n",
    "for titulo in listado_titulos_biomedicina_stemmed:\n",
    "    titulos_biomedicina_preprocesados.append(re.sub(r'[^\\w\\s]','',titulo))\n",
    "    \n",
    "    \n",
    "pwd_list_electronica = (glob.glob(\"../00Data/dataset_pdf/Electronica/*.pdf\"))\n",
    "listado_titulos_electronica_removed_stopwords = []\n",
    "listado_titulos_electronica_stemmed = []\n",
    "titulos_electronica_preprocesados = []\n",
    "\n",
    "for element in pwd_list_electronica:\n",
    "    texto = element.split('/')[-1].split('.pdf')[0]\n",
    "    texto = texto.replace('_',' ')\n",
    "    word_tokens = nltk.word_tokenize(texto) \n",
    "    filtered_sentence = [w for w in word_tokens if not w in stopwords.words('spanish')]\n",
    "    listado_titulos_electronica_removed_stopwords.append(\" \".join(filtered_sentence))\n",
    "    \n",
    "for titulo in listado_titulos_electronica_removed_stopwords:\n",
    "    listado_titulos_electronica_stemmed.append(\" \".join([stemmer.stem(word) for word in nltk.word_tokenize(titulo)]))\n",
    "\n",
    "for titulo in listado_titulos_electronica_stemmed:\n",
    "    titulos_electronica_preprocesados.append(re.sub(r'[^\\w\\s]','',titulo))\n",
    "    \n",
    "    \n",
    "    \n",
    "pwd_list_fluids = (glob.glob(\"../00Data/dataset_pdf/Mecanica_fluids/*.pdf\"))\n",
    "listado_titulos_fluids_removed_stopwords = []\n",
    "listado_titulos_fluids_stemmed = []\n",
    "titulos_fluids_preprocesados = []\n",
    "\n",
    "for element in pwd_list_fluids:\n",
    "    texto = element.split('/')[-1].split('.pdf')[0]\n",
    "    texto = texto.replace('_',' ')\n",
    "    word_tokens = nltk.word_tokenize(texto) \n",
    "    filtered_sentence = [w for w in word_tokens if not w in stopwords.words('spanish')]\n",
    "    listado_titulos_fluids_removed_stopwords.append(\" \".join(filtered_sentence))\n",
    "    \n",
    "for titulo in listado_titulos_fluids_removed_stopwords:\n",
    "    listado_titulos_fluids_stemmed.append(\" \".join([stemmer.stem(word) for word in nltk.word_tokenize(titulo)]))\n",
    "\n",
    "for titulo in listado_titulos_fluids_stemmed:\n",
    "    titulos_fluids_preprocesados.append(re.sub(r'[^\\w\\s]','',titulo))\n",
    "    "
   ]
  },
  {
   "cell_type": "code",
   "execution_count": 208,
   "metadata": {},
   "outputs": [
    {
     "data": {
      "text/html": [
       "<div>\n",
       "<style scoped>\n",
       "    .dataframe tbody tr th:only-of-type {\n",
       "        vertical-align: middle;\n",
       "    }\n",
       "\n",
       "    .dataframe tbody tr th {\n",
       "        vertical-align: top;\n",
       "    }\n",
       "\n",
       "    .dataframe thead th {\n",
       "        text-align: right;\n",
       "    }\n",
       "</style>\n",
       "<table border=\"1\" class=\"dataframe\">\n",
       "  <thead>\n",
       "    <tr style=\"text-align: right;\">\n",
       "      <th></th>\n",
       "      <th>Label</th>\n",
       "      <th>Doc_name</th>\n",
       "    </tr>\n",
       "  </thead>\n",
       "  <tbody>\n",
       "    <tr>\n",
       "      <th>0</th>\n",
       "      <td>Automobil</td>\n",
       "      <td>disen vehicul desplaz personal ciud</td>\n",
       "    </tr>\n",
       "    <tr>\n",
       "      <th>1</th>\n",
       "      <td>Automobil</td>\n",
       "      <td>disen bascul traser motociclet</td>\n",
       "    </tr>\n",
       "    <tr>\n",
       "      <th>2</th>\n",
       "      <td>Automobil</td>\n",
       "      <td>mecanism elev per gru dautomobils carreg lateral</td>\n",
       "    </tr>\n",
       "    <tr>\n",
       "      <th>3</th>\n",
       "      <td>Automobil</td>\n",
       "      <td>disen caj cambi seis veloc</td>\n",
       "    </tr>\n",
       "    <tr>\n",
       "      <th>4</th>\n",
       "      <td>Automobil</td>\n",
       "      <td>analisis disen implementacion septim relacion ...</td>\n",
       "    </tr>\n",
       "    <tr>\n",
       "      <th>5</th>\n",
       "      <td>Automobil</td>\n",
       "      <td>laboratori ensay certificacion vehicul</td>\n",
       "    </tr>\n",
       "    <tr>\n",
       "      <th>6</th>\n",
       "      <td>Automobil</td>\n",
       "      <td>disen transmision todoterren adapt vehicul tip...</td>\n",
       "    </tr>\n",
       "    <tr>\n",
       "      <th>7</th>\n",
       "      <td>Automobil</td>\n",
       "      <td>cap activ</td>\n",
       "    </tr>\n",
       "    <tr>\n",
       "      <th>8</th>\n",
       "      <td>Automobil</td>\n",
       "      <td>disen element suspension vehicul competicion</td>\n",
       "    </tr>\n",
       "    <tr>\n",
       "      <th>9</th>\n",
       "      <td>Automobil</td>\n",
       "      <td>disen implementacion vehicul uniaxial control ...</td>\n",
       "    </tr>\n",
       "  </tbody>\n",
       "</table>\n",
       "</div>"
      ],
      "text/plain": [
       "       Label                                           Doc_name\n",
       "0  Automobil                disen vehicul desplaz personal ciud\n",
       "1  Automobil                     disen bascul traser motociclet\n",
       "2  Automobil   mecanism elev per gru dautomobils carreg lateral\n",
       "3  Automobil                         disen caj cambi seis veloc\n",
       "4  Automobil  analisis disen implementacion septim relacion ...\n",
       "5  Automobil             laboratori ensay certificacion vehicul\n",
       "6  Automobil  disen transmision todoterren adapt vehicul tip...\n",
       "7  Automobil                                          cap activ\n",
       "8  Automobil       disen element suspension vehicul competicion\n",
       "9  Automobil  disen implementacion vehicul uniaxial control ..."
      ]
     },
     "execution_count": 208,
     "metadata": {},
     "output_type": "execute_result"
    }
   ],
   "source": [
    "df1 = pd.DataFrame({'Label':'Automobil','Doc_name': titulos_automobil_preprocesados})\n",
    "df2 = pd.DataFrame({'Label':'Biomedicina','Doc_name': titulos_biomedicina_preprocesados})\n",
    "df3 = pd.DataFrame({'Label':'Electronica','Doc_name': titulos_electronica_preprocesados})\n",
    "df4 = pd.DataFrame({'Label':'Mecanica_fluids','Doc_name': titulos_fluids_preprocesados})\n",
    "\n",
    "df = pd.concat([df1,df2,df3,df4]) \n",
    "df.head(10)"
   ]
  },
  {
   "cell_type": "code",
   "execution_count": 209,
   "metadata": {},
   "outputs": [
    {
     "data": {
      "text/plain": [
       "array(['Automobil', 'Biomedicina', 'Electronica', 'Mecanica_fluids'],\n",
       "      dtype=object)"
      ]
     },
     "execution_count": 209,
     "metadata": {},
     "output_type": "execute_result"
    }
   ],
   "source": [
    "df.Label.unique()"
   ]
  },
  {
   "cell_type": "code",
   "execution_count": 210,
   "metadata": {},
   "outputs": [
    {
     "data": {
      "text/plain": [
       "79"
      ]
     },
     "execution_count": 210,
     "metadata": {},
     "output_type": "execute_result"
    }
   ],
   "source": [
    "#Quantitat de documents\n",
    "len(df)"
   ]
  },
  {
   "cell_type": "code",
   "execution_count": 211,
   "metadata": {},
   "outputs": [
    {
     "data": {
      "text/plain": [
       "True"
      ]
     },
     "execution_count": 211,
     "metadata": {},
     "output_type": "execute_result"
    }
   ],
   "source": [
    "#Comprovació dels títols \n",
    "len(df.Doc_name) == len(df.Doc_name.unique())"
   ]
  },
  {
   "cell_type": "markdown",
   "metadata": {},
   "source": [
    "#### Train test split"
   ]
  },
  {
   "cell_type": "code",
   "execution_count": 212,
   "metadata": {},
   "outputs": [
    {
     "name": "stdout",
     "output_type": "stream",
     "text": [
      "(79,)\n",
      "(79,)\n"
     ]
    }
   ],
   "source": [
    "#Defineixo les variables i les etiquetes. X: variables, y: etiquetes\n",
    "X = df.Doc_name\n",
    "y = df.Label\n",
    "print(X.shape)\n",
    "print(y.shape)"
   ]
  },
  {
   "cell_type": "code",
   "execution_count": 213,
   "metadata": {},
   "outputs": [
    {
     "name": "stdout",
     "output_type": "stream",
     "text": [
      "(59,)\n",
      "(20,)\n",
      "(59,)\n",
      "(20,)\n"
     ]
    }
   ],
   "source": [
    "#Separació del dataset en train i test. 75% train, 25% test\n",
    "X_train, X_test, y_train, y_test = train_test_split(X, y, test_size=0.25, random_state=27)\n",
    "print(X_train.shape)\n",
    "print(X_test.shape)\n",
    "print(y_train.shape)\n",
    "print(y_test.shape)"
   ]
  },
  {
   "cell_type": "markdown",
   "metadata": {},
   "source": [
    "## FEATURING"
   ]
  },
  {
   "cell_type": "markdown",
   "metadata": {},
   "source": [
    "### Countvectorizer (Term frequency)  --> COUNT BASED FEATURE EXTRACTION"
   ]
  },
  {
   "cell_type": "code",
   "execution_count": 214,
   "metadata": {},
   "outputs": [],
   "source": [
    "vect = CountVectorizer(stop_words=stopwords.words('spanish')) \n",
    "#S'inicialitza el vectoritzador i s'eliminen les stopwords del castellà\n",
    "#Es pot configurar min_df o max_df com a híper-paràmetre\n",
    "#You must always have a 1D object so CountVectorizer can turn into a 2D object for the model to be built on"
   ]
  },
  {
   "cell_type": "code",
   "execution_count": 215,
   "metadata": {},
   "outputs": [],
   "source": [
    "#Entreno el vectoritzador, l'ajusto amb les dades de X_train i transformo les mateixes\n",
    "X_train_dtm = vect.fit_transform(X_train)"
   ]
  },
  {
   "cell_type": "code",
   "execution_count": 216,
   "metadata": {},
   "outputs": [],
   "source": [
    "# Transformo els títols de X_test a partir del vectoritzador prèviament entrenat amb X_train\n",
    "X_test_dtm = vect.transform(X_test) "
   ]
  },
  {
   "cell_type": "code",
   "execution_count": 217,
   "metadata": {},
   "outputs": [],
   "source": [
    "### Transformració de totes les dades disponibles (X_train+X_test)\n",
    "vect_max = CountVectorizer(stop_words=stopwords.words('spanish'))\n",
    "X_transf_dtm = vect_max.fit_transform(X)"
   ]
  },
  {
   "cell_type": "markdown",
   "metadata": {},
   "source": [
    "### PCA 2D de tot el conjunt"
   ]
  },
  {
   "cell_type": "code",
   "execution_count": 218,
   "metadata": {},
   "outputs": [],
   "source": [
    "input_PCA_full_cv1 = X_transf_dtm.toarray()\n",
    "#Fixo el número de components principals // Dimensions\n",
    "pca = PCA(n_components=2)\n",
    "principalComponents = pca.fit_transform(input_PCA_full_cv1)\n",
    "#DataFrame amb els dos components principals i els seus labels corresponents\n",
    "principalDf = pd.DataFrame(data = principalComponents, columns = ['principal component 1', 'principal component 2'])\n",
    "principalDf['labels'] = list(y)"
   ]
  },
  {
   "cell_type": "code",
   "execution_count": 219,
   "metadata": {},
   "outputs": [
    {
     "data": {
      "text/html": [
       "<div>\n",
       "<style scoped>\n",
       "    .dataframe tbody tr th:only-of-type {\n",
       "        vertical-align: middle;\n",
       "    }\n",
       "\n",
       "    .dataframe tbody tr th {\n",
       "        vertical-align: top;\n",
       "    }\n",
       "\n",
       "    .dataframe thead th {\n",
       "        text-align: right;\n",
       "    }\n",
       "</style>\n",
       "<table border=\"1\" class=\"dataframe\">\n",
       "  <thead>\n",
       "    <tr style=\"text-align: right;\">\n",
       "      <th></th>\n",
       "      <th>principal component 1</th>\n",
       "      <th>principal component 2</th>\n",
       "      <th>labels</th>\n",
       "    </tr>\n",
       "  </thead>\n",
       "  <tbody>\n",
       "    <tr>\n",
       "      <th>0</th>\n",
       "      <td>0.928449</td>\n",
       "      <td>0.239416</td>\n",
       "      <td>Automobil</td>\n",
       "    </tr>\n",
       "    <tr>\n",
       "      <th>1</th>\n",
       "      <td>0.706155</td>\n",
       "      <td>0.173175</td>\n",
       "      <td>Automobil</td>\n",
       "    </tr>\n",
       "    <tr>\n",
       "      <th>2</th>\n",
       "      <td>-0.168962</td>\n",
       "      <td>-0.204358</td>\n",
       "      <td>Automobil</td>\n",
       "    </tr>\n",
       "    <tr>\n",
       "      <th>3</th>\n",
       "      <td>0.707506</td>\n",
       "      <td>0.173719</td>\n",
       "      <td>Automobil</td>\n",
       "    </tr>\n",
       "    <tr>\n",
       "      <th>4</th>\n",
       "      <td>1.133711</td>\n",
       "      <td>0.247745</td>\n",
       "      <td>Automobil</td>\n",
       "    </tr>\n",
       "  </tbody>\n",
       "</table>\n",
       "</div>"
      ],
      "text/plain": [
       "   principal component 1  principal component 2     labels\n",
       "0               0.928449               0.239416  Automobil\n",
       "1               0.706155               0.173175  Automobil\n",
       "2              -0.168962              -0.204358  Automobil\n",
       "3               0.707506               0.173719  Automobil\n",
       "4               1.133711               0.247745  Automobil"
      ]
     },
     "execution_count": 219,
     "metadata": {},
     "output_type": "execute_result"
    }
   ],
   "source": [
    "principalDf.head(5)"
   ]
  },
  {
   "cell_type": "code",
   "execution_count": 220,
   "metadata": {},
   "outputs": [
    {
     "name": "stdout",
     "output_type": "stream",
     "text": [
      "El component principal 1 conté un ratio de variança = 0.05005665326979357 mentre que el component principal 2 conté un ratio de variança de 0.04020930292003918\n"
     ]
    }
   ],
   "source": [
    "explained_variance = pca.explained_variance_ratio_\n",
    "print('El component principal 1 conté un ratio de variança = '+str(explained_variance[0])+' mentre que el component principal 2 conté un ratio de variança de '+str(explained_variance[1]))"
   ]
  },
  {
   "cell_type": "code",
   "execution_count": 221,
   "metadata": {
    "scrolled": false
   },
   "outputs": [
    {
     "data": {
      "text/plain": [
       "<matplotlib.legend.Legend at 0x13675bb38>"
      ]
     },
     "execution_count": 221,
     "metadata": {},
     "output_type": "execute_result"
    },
    {
     "data": {
      "image/png": "[encoded data removed]",
      "text/plain": [
       "<Figure size 432x432 with 1 Axes>"
      ]
     },
     "metadata": {},
     "output_type": "display_data"
    }
   ],
   "source": [
    "##Plotting 2D\n",
    "\n",
    "fig2 = plt.figure(figsize = (6,6))\n",
    "ax3 = fig2.add_subplot(1,1,1) \n",
    "ax3.set_xlabel('Component principal 1', fontsize = 10)\n",
    "ax3.set_ylabel('Component principal 2', fontsize = 10)\n",
    "#ax3.set_title('PCA 2D - Totes les dades - Featuring CV Countbased', fontsize = 20)\n",
    "\n",
    "targets = y.unique()\n",
    "colors = ['r', 'b','y','g','k']\n",
    "\n",
    "for target, color in zip(targets,colors):\n",
    "    indicesToKeep = principalDf['labels'] == target\n",
    "    ax3.scatter(principalDf.loc[indicesToKeep, 'principal component 1']\n",
    "               , principalDf.loc[indicesToKeep, 'principal component 2'], c = color, s = 30,alpha = 0.2)\n",
    "\n",
    "ax3.legend(targets)\n",
    "\n"
   ]
  },
  {
   "cell_type": "markdown",
   "metadata": {},
   "source": [
    "### PCA 2D del conjunto de train"
   ]
  },
  {
   "cell_type": "code",
   "execution_count": 222,
   "metadata": {},
   "outputs": [],
   "source": [
    "input_PCA_full_cv1 = X_train_dtm.toarray()\n",
    "pca2 = PCA(n_components=2)\n",
    "principalComponents = pca2.fit_transform(input_PCA_full_cv1)\n",
    "principalDf2 = pd.DataFrame(data = principalComponents, columns = ['principal component 1', 'principal component 2'])\n",
    "principalDf2['labels'] = list(y_train)"
   ]
  },
  {
   "cell_type": "code",
   "execution_count": 223,
   "metadata": {},
   "outputs": [
    {
     "data": {
      "text/html": [
       "<div>\n",
       "<style scoped>\n",
       "    .dataframe tbody tr th:only-of-type {\n",
       "        vertical-align: middle;\n",
       "    }\n",
       "\n",
       "    .dataframe tbody tr th {\n",
       "        vertical-align: top;\n",
       "    }\n",
       "\n",
       "    .dataframe thead th {\n",
       "        text-align: right;\n",
       "    }\n",
       "</style>\n",
       "<table border=\"1\" class=\"dataframe\">\n",
       "  <thead>\n",
       "    <tr style=\"text-align: right;\">\n",
       "      <th></th>\n",
       "      <th>principal component 1</th>\n",
       "      <th>principal component 2</th>\n",
       "      <th>labels</th>\n",
       "    </tr>\n",
       "  </thead>\n",
       "  <tbody>\n",
       "    <tr>\n",
       "      <th>0</th>\n",
       "      <td>1.233183</td>\n",
       "      <td>0.292151</td>\n",
       "      <td>Automobil</td>\n",
       "    </tr>\n",
       "    <tr>\n",
       "      <th>1</th>\n",
       "      <td>-0.509077</td>\n",
       "      <td>-0.611040</td>\n",
       "      <td>Mecanica_fluids</td>\n",
       "    </tr>\n",
       "    <tr>\n",
       "      <th>2</th>\n",
       "      <td>0.957690</td>\n",
       "      <td>-0.126779</td>\n",
       "      <td>Electronica</td>\n",
       "    </tr>\n",
       "    <tr>\n",
       "      <th>3</th>\n",
       "      <td>1.373269</td>\n",
       "      <td>0.247815</td>\n",
       "      <td>Biomedicina</td>\n",
       "    </tr>\n",
       "    <tr>\n",
       "      <th>4</th>\n",
       "      <td>-0.715717</td>\n",
       "      <td>1.437459</td>\n",
       "      <td>Biomedicina</td>\n",
       "    </tr>\n",
       "  </tbody>\n",
       "</table>\n",
       "</div>"
      ],
      "text/plain": [
       "   principal component 1  principal component 2           labels\n",
       "0               1.233183               0.292151        Automobil\n",
       "1              -0.509077              -0.611040  Mecanica_fluids\n",
       "2               0.957690              -0.126779      Electronica\n",
       "3               1.373269               0.247815      Biomedicina\n",
       "4              -0.715717               1.437459      Biomedicina"
      ]
     },
     "execution_count": 223,
     "metadata": {},
     "output_type": "execute_result"
    }
   ],
   "source": [
    "principalDf2.head(5)"
   ]
  },
  {
   "cell_type": "code",
   "execution_count": 224,
   "metadata": {},
   "outputs": [
    {
     "name": "stdout",
     "output_type": "stream",
     "text": [
      "El component principal 1 conté un ratio de variança = 0.05824032505179005 mentre que la componente principal 2 conté un ratio de variança de 0.047930506576639165\n"
     ]
    }
   ],
   "source": [
    "explained_variance = pca2.explained_variance_ratio_\n",
    "print('El component principal 1 conté un ratio de variança = '+str(explained_variance[0])+' mentre que la componente principal 2 conté un ratio de variança de '+str(explained_variance[1]))"
   ]
  },
  {
   "cell_type": "code",
   "execution_count": 225,
   "metadata": {},
   "outputs": [
    {
     "data": {
      "text/plain": [
       "<matplotlib.legend.Legend at 0x12b8ae400>"
      ]
     },
     "execution_count": 225,
     "metadata": {},
     "output_type": "execute_result"
    },
    {
     "data": {
      "image/png": "[encoded data removed]",
      "text/plain": [
       "<Figure size 432x432 with 1 Axes>"
      ]
     },
     "metadata": {},
     "output_type": "display_data"
    }
   ],
   "source": [
    "##Plotting 2D\n",
    "\n",
    "fig2 = plt.figure(figsize = (6,6))\n",
    "ax3 = fig2.add_subplot(1,1,1) \n",
    "ax3.set_xlabel('Component principal 1', fontsize = 10)\n",
    "ax3.set_ylabel('Component principal 2', fontsize = 10)\n",
    "#ax3.set_title('PCA 2D - Conjunt train - CV countbased', fontsize = 20)\n",
    "\n",
    "targets = y.unique()\n",
    "colors = ['r', 'b','y','g','k']\n",
    "\n",
    "for target, color in zip(targets,colors):\n",
    "    indicesToKeep = principalDf2['labels'] == target\n",
    "    ax3.scatter(principalDf2.loc[indicesToKeep, 'principal component 1']\n",
    "               , principalDf2.loc[indicesToKeep, 'principal component 2'], c = color, s = 30,alpha = 0.2)\n",
    "\n",
    "ax3.legend(targets)\n",
    "\n"
   ]
  },
  {
   "cell_type": "markdown",
   "metadata": {},
   "source": [
    "### Countvectorizer (Binary Weighting) --> Binary feature representation"
   ]
  },
  {
   "cell_type": "code",
   "execution_count": 226,
   "metadata": {},
   "outputs": [],
   "source": [
    "cv = CountVectorizer(binary=True,max_df =0.90, stop_words=stopwords.words('spanish'))\n",
    "#max_df permet ignorar les paraules que apareixen en el 90% dels documents\n",
    "#S'eliminen les stopwords en castellà "
   ]
  },
  {
   "cell_type": "code",
   "execution_count": 227,
   "metadata": {},
   "outputs": [],
   "source": [
    "X_train_dtm2 = cv.fit_transform(X_train)"
   ]
  },
  {
   "cell_type": "code",
   "execution_count": 228,
   "metadata": {},
   "outputs": [],
   "source": [
    "X_test_dtm2 = cv.transform(X_test)"
   ]
  },
  {
   "cell_type": "code",
   "execution_count": 229,
   "metadata": {},
   "outputs": [],
   "source": [
    "### Transformació de TOTES LES DADES DISPONIBLES\n",
    "cv_max = CountVectorizer(binary=True,max_df =0.90, stop_words=stopwords.words('spanish')) \n",
    "X_transf_dtm2 = cv_max.fit_transform(X) #Faig un fit transform del countVectorizer amb tots els títols pre-processats"
   ]
  },
  {
   "cell_type": "markdown",
   "metadata": {},
   "source": [
    "### PCA 2D de tot el conjunt (cv binary weighting)"
   ]
  },
  {
   "cell_type": "code",
   "execution_count": 230,
   "metadata": {
    "scrolled": true
   },
   "outputs": [
    {
     "data": {
      "text/html": [
       "<div>\n",
       "<style scoped>\n",
       "    .dataframe tbody tr th:only-of-type {\n",
       "        vertical-align: middle;\n",
       "    }\n",
       "\n",
       "    .dataframe tbody tr th {\n",
       "        vertical-align: top;\n",
       "    }\n",
       "\n",
       "    .dataframe thead th {\n",
       "        text-align: right;\n",
       "    }\n",
       "</style>\n",
       "<table border=\"1\" class=\"dataframe\">\n",
       "  <thead>\n",
       "    <tr style=\"text-align: right;\">\n",
       "      <th></th>\n",
       "      <th>principal component 1</th>\n",
       "      <th>principal component 2</th>\n",
       "      <th>labels</th>\n",
       "    </tr>\n",
       "  </thead>\n",
       "  <tbody>\n",
       "    <tr>\n",
       "      <th>0</th>\n",
       "      <td>0.926774</td>\n",
       "      <td>0.249339</td>\n",
       "      <td>Automobil</td>\n",
       "    </tr>\n",
       "    <tr>\n",
       "      <th>1</th>\n",
       "      <td>0.705009</td>\n",
       "      <td>0.182453</td>\n",
       "      <td>Automobil</td>\n",
       "    </tr>\n",
       "    <tr>\n",
       "      <th>2</th>\n",
       "      <td>-0.169129</td>\n",
       "      <td>-0.216630</td>\n",
       "      <td>Automobil</td>\n",
       "    </tr>\n",
       "    <tr>\n",
       "      <th>3</th>\n",
       "      <td>0.706359</td>\n",
       "      <td>0.183039</td>\n",
       "      <td>Automobil</td>\n",
       "    </tr>\n",
       "    <tr>\n",
       "      <th>4</th>\n",
       "      <td>1.132295</td>\n",
       "      <td>0.259597</td>\n",
       "      <td>Automobil</td>\n",
       "    </tr>\n",
       "  </tbody>\n",
       "</table>\n",
       "</div>"
      ],
      "text/plain": [
       "   principal component 1  principal component 2     labels\n",
       "0               0.926774               0.249339  Automobil\n",
       "1               0.705009               0.182453  Automobil\n",
       "2              -0.169129              -0.216630  Automobil\n",
       "3               0.706359               0.183039  Automobil\n",
       "4               1.132295               0.259597  Automobil"
      ]
     },
     "execution_count": 230,
     "metadata": {},
     "output_type": "execute_result"
    }
   ],
   "source": [
    "input_PCA_full_cv1 = X_transf_dtm2.toarray()\n",
    "pca3 = PCA(n_components=2)\n",
    "principalComponents = pca3.fit_transform(input_PCA_full_cv1)\n",
    "principalDf3 = pd.DataFrame(data = principalComponents, columns = ['principal component 1', 'principal component 2'])\n",
    "principalDf3['labels'] = list(y)\n",
    "principalDf3.head(5)"
   ]
  },
  {
   "cell_type": "code",
   "execution_count": 231,
   "metadata": {},
   "outputs": [
    {
     "name": "stdout",
     "output_type": "stream",
     "text": [
      "El componente principal 1 conté un ratio de variança = 0.050636574582241925 mentre que el component principal 2 conté un ratio de variança de 0.040293206720242836\n"
     ]
    }
   ],
   "source": [
    "explained_variance = pca3.explained_variance_ratio_\n",
    "print('El componente principal 1 conté un ratio de variança = '+str(explained_variance[0])+' mentre que el component principal 2 conté un ratio de variança de '+str(explained_variance[1]))"
   ]
  },
  {
   "cell_type": "code",
   "execution_count": 232,
   "metadata": {},
   "outputs": [
    {
     "data": {
      "text/plain": [
       "<matplotlib.legend.Legend at 0x12d943b70>"
      ]
     },
     "execution_count": 232,
     "metadata": {},
     "output_type": "execute_result"
    },
    {
     "data": {
      "image/png": "[encoded data removed]",
      "text/plain": [
       "<Figure size 432x432 with 1 Axes>"
      ]
     },
     "metadata": {},
     "output_type": "display_data"
    }
   ],
   "source": [
    "##Plotting 2D\n",
    "\n",
    "fig2 = plt.figure(figsize = (6,6))\n",
    "ax3 = fig2.add_subplot(1,1,1) \n",
    "ax3.set_xlabel('Component principal 1', fontsize = 10)\n",
    "ax3.set_ylabel('Component principal 2', fontsize = 10)\n",
    "#ax3.set_title('PCA 2D - Totes les dades - CV binary', fontsize = 20)\n",
    "\n",
    "targets = y.unique()\n",
    "colors = ['r', 'b','y','g','k']\n",
    "\n",
    "for target, color in zip(targets,colors):\n",
    "    indicesToKeep = principalDf3['labels'] == target\n",
    "    ax3.scatter(principalDf3.loc[indicesToKeep, 'principal component 1']\n",
    "               , principalDf3.loc[indicesToKeep, 'principal component 2'], c = color, s = 30,alpha = 0.2)\n",
    "\n",
    "ax3.legend(targets)\n",
    "\n"
   ]
  },
  {
   "cell_type": "markdown",
   "metadata": {},
   "source": [
    "### PCA 2D conjunt de train (cv binary weighting)"
   ]
  },
  {
   "cell_type": "code",
   "execution_count": 233,
   "metadata": {},
   "outputs": [
    {
     "data": {
      "text/html": [
       "<div>\n",
       "<style scoped>\n",
       "    .dataframe tbody tr th:only-of-type {\n",
       "        vertical-align: middle;\n",
       "    }\n",
       "\n",
       "    .dataframe tbody tr th {\n",
       "        vertical-align: top;\n",
       "    }\n",
       "\n",
       "    .dataframe thead th {\n",
       "        text-align: right;\n",
       "    }\n",
       "</style>\n",
       "<table border=\"1\" class=\"dataframe\">\n",
       "  <thead>\n",
       "    <tr style=\"text-align: right;\">\n",
       "      <th></th>\n",
       "      <th>principal component 1</th>\n",
       "      <th>principal component 2</th>\n",
       "      <th>labels</th>\n",
       "    </tr>\n",
       "  </thead>\n",
       "  <tbody>\n",
       "    <tr>\n",
       "      <th>0</th>\n",
       "      <td>1.233479</td>\n",
       "      <td>0.300205</td>\n",
       "      <td>Automobil</td>\n",
       "    </tr>\n",
       "    <tr>\n",
       "      <th>1</th>\n",
       "      <td>-0.524410</td>\n",
       "      <td>-0.590876</td>\n",
       "      <td>Mecanica_fluids</td>\n",
       "    </tr>\n",
       "    <tr>\n",
       "      <th>2</th>\n",
       "      <td>0.953977</td>\n",
       "      <td>-0.150646</td>\n",
       "      <td>Electronica</td>\n",
       "    </tr>\n",
       "    <tr>\n",
       "      <th>3</th>\n",
       "      <td>1.370408</td>\n",
       "      <td>0.293662</td>\n",
       "      <td>Biomedicina</td>\n",
       "    </tr>\n",
       "    <tr>\n",
       "      <th>4</th>\n",
       "      <td>-0.695439</td>\n",
       "      <td>1.491004</td>\n",
       "      <td>Biomedicina</td>\n",
       "    </tr>\n",
       "  </tbody>\n",
       "</table>\n",
       "</div>"
      ],
      "text/plain": [
       "   principal component 1  principal component 2           labels\n",
       "0               1.233479               0.300205        Automobil\n",
       "1              -0.524410              -0.590876  Mecanica_fluids\n",
       "2               0.953977              -0.150646      Electronica\n",
       "3               1.370408               0.293662      Biomedicina\n",
       "4              -0.695439               1.491004      Biomedicina"
      ]
     },
     "execution_count": 233,
     "metadata": {},
     "output_type": "execute_result"
    }
   ],
   "source": [
    "input_PCA_full_cv1 = X_train_dtm2.toarray()\n",
    "pca4 = PCA(n_components=2)\n",
    "principalComponents = pca4.fit_transform(input_PCA_full_cv1)\n",
    "principalDf4 = pd.DataFrame(data = principalComponents, columns = ['principal component 1', 'principal component 2'])\n",
    "principalDf4['labels'] = list(y_train)\n",
    "principalDf4.head(5)"
   ]
  },
  {
   "cell_type": "code",
   "execution_count": 234,
   "metadata": {},
   "outputs": [
    {
     "name": "stdout",
     "output_type": "stream",
     "text": [
      "El componente principal 1 conté un ratio de variança = 0.059086041372236296 mentre que el component principal 2 conté un ratio de variança de 0.04808443527803817\n"
     ]
    }
   ],
   "source": [
    "explained_variance = pca4.explained_variance_ratio_\n",
    "print('El componente principal 1 conté un ratio de variança = '+str(explained_variance[0])+' mentre que el component principal 2 conté un ratio de variança de '+str(explained_variance[1]))"
   ]
  },
  {
   "cell_type": "code",
   "execution_count": 235,
   "metadata": {},
   "outputs": [
    {
     "data": {
      "text/plain": [
       "<matplotlib.legend.Legend at 0x12d2cbcc0>"
      ]
     },
     "execution_count": 235,
     "metadata": {},
     "output_type": "execute_result"
    },
    {
     "data": {
      "image/png": "[encoded data removed]",
      "text/plain": [
       "<Figure size 432x432 with 1 Axes>"
      ]
     },
     "metadata": {},
     "output_type": "display_data"
    }
   ],
   "source": [
    "##Plotting 2D\n",
    "\n",
    "fig2 = plt.figure(figsize = (6,6))\n",
    "ax3 = fig2.add_subplot(1,1,1) \n",
    "ax3.set_xlabel('Component principal 1', fontsize = 10)\n",
    "ax3.set_ylabel('Component principal 2', fontsize = 10)\n",
    "#ax3.set_title('PCA 2D - Conjunt Train - CV binary', fontsize = 20)\n",
    "\n",
    "targets = y.unique()\n",
    "colors = ['r', 'b','y','g','k']\n",
    "\n",
    "for target, color in zip(targets,colors):\n",
    "    indicesToKeep = principalDf4['labels'] == target\n",
    "    ax3.scatter(principalDf4.loc[indicesToKeep, 'principal component 1']\n",
    "               , principalDf4.loc[indicesToKeep, 'principal component 2'], c = color, s = 30,alpha = 0.2)\n",
    "\n",
    "ax3.legend(targets)\n",
    "\n"
   ]
  },
  {
   "cell_type": "markdown",
   "metadata": {},
   "source": [
    "### TF-IDF vectorizer --> Term frequency representation"
   ]
  },
  {
   "cell_type": "code",
   "execution_count": 236,
   "metadata": {},
   "outputs": [],
   "source": [
    "tfidf_vectorizer = TfidfVectorizer(use_idf=True, max_df = 0.90, stop_words=stopwords.words('spanish'),ngram_range=(1,2))\n",
    "#max_df = permet ignorar els tokens (words) que tenen una freqüència major a la especificada"
   ]
  },
  {
   "cell_type": "code",
   "execution_count": 237,
   "metadata": {},
   "outputs": [],
   "source": [
    "X_train_dtm3 = tfidf_vectorizer.fit_transform(X_train)"
   ]
  },
  {
   "cell_type": "code",
   "execution_count": 238,
   "metadata": {},
   "outputs": [],
   "source": [
    "X_test_dtm3 = tfidf_vectorizer.transform(X_test)"
   ]
  },
  {
   "cell_type": "code",
   "execution_count": 239,
   "metadata": {},
   "outputs": [],
   "source": [
    "### Transformració de TOTES LES DADES DISPONIBLES\n",
    "tfidf_vectorizer_max = TfidfVectorizer(use_idf=True, max_df = 0.90, stop_words=stopwords.words('spanish'),ngram_range=(1,2))\n",
    "X_transf_dtm3 = tfidf_vectorizer_max.fit_transform(X)"
   ]
  },
  {
   "cell_type": "markdown",
   "metadata": {},
   "source": [
    "### PCA 2D de tot el conjunt de dades (tf-idf)"
   ]
  },
  {
   "cell_type": "code",
   "execution_count": 240,
   "metadata": {},
   "outputs": [
    {
     "data": {
      "text/html": [
       "<div>\n",
       "<style scoped>\n",
       "    .dataframe tbody tr th:only-of-type {\n",
       "        vertical-align: middle;\n",
       "    }\n",
       "\n",
       "    .dataframe tbody tr th {\n",
       "        vertical-align: top;\n",
       "    }\n",
       "\n",
       "    .dataframe thead th {\n",
       "        text-align: right;\n",
       "    }\n",
       "</style>\n",
       "<table border=\"1\" class=\"dataframe\">\n",
       "  <thead>\n",
       "    <tr style=\"text-align: right;\">\n",
       "      <th></th>\n",
       "      <th>principal component 1</th>\n",
       "      <th>principal component 2</th>\n",
       "      <th>labels</th>\n",
       "    </tr>\n",
       "  </thead>\n",
       "  <tbody>\n",
       "    <tr>\n",
       "      <th>0</th>\n",
       "      <td>-0.140096</td>\n",
       "      <td>0.238500</td>\n",
       "      <td>Automobil</td>\n",
       "    </tr>\n",
       "    <tr>\n",
       "      <th>1</th>\n",
       "      <td>-0.126313</td>\n",
       "      <td>0.213873</td>\n",
       "      <td>Automobil</td>\n",
       "    </tr>\n",
       "    <tr>\n",
       "      <th>2</th>\n",
       "      <td>-0.002436</td>\n",
       "      <td>-0.011668</td>\n",
       "      <td>Automobil</td>\n",
       "    </tr>\n",
       "    <tr>\n",
       "      <th>3</th>\n",
       "      <td>-0.088885</td>\n",
       "      <td>0.155684</td>\n",
       "      <td>Automobil</td>\n",
       "    </tr>\n",
       "    <tr>\n",
       "      <th>4</th>\n",
       "      <td>-0.136828</td>\n",
       "      <td>0.257736</td>\n",
       "      <td>Automobil</td>\n",
       "    </tr>\n",
       "  </tbody>\n",
       "</table>\n",
       "</div>"
      ],
      "text/plain": [
       "   principal component 1  principal component 2     labels\n",
       "0              -0.140096               0.238500  Automobil\n",
       "1              -0.126313               0.213873  Automobil\n",
       "2              -0.002436              -0.011668  Automobil\n",
       "3              -0.088885               0.155684  Automobil\n",
       "4              -0.136828               0.257736  Automobil"
      ]
     },
     "execution_count": 240,
     "metadata": {},
     "output_type": "execute_result"
    }
   ],
   "source": [
    "input_PCA_full_cv1 = X_transf_dtm3.toarray()\n",
    "pca5 = PCA(n_components=2)\n",
    "principalComponents = pca5.fit_transform(input_PCA_full_cv1)\n",
    "principalDf5 = pd.DataFrame(data = principalComponents, columns = ['principal component 1', 'principal component 2'])\n",
    "principalDf5['labels'] = list(y)\n",
    "principalDf5.head(5)"
   ]
  },
  {
   "cell_type": "code",
   "execution_count": 241,
   "metadata": {},
   "outputs": [
    {
     "name": "stdout",
     "output_type": "stream",
     "text": [
      "El component principal 1 conté un ratio de variança = 0.02422849986735849 mentre que el componente principal 2 conté un ratio de variança de 0.02073970900899861\n"
     ]
    }
   ],
   "source": [
    "explained_variance = pca5.explained_variance_ratio_\n",
    "print('El component principal 1 conté un ratio de variança = '+str(explained_variance[0])+' mentre que el componente principal 2 conté un ratio de variança de '+str(explained_variance[1]))\n"
   ]
  },
  {
   "cell_type": "code",
   "execution_count": 242,
   "metadata": {},
   "outputs": [
    {
     "data": {
      "text/plain": [
       "<matplotlib.legend.Legend at 0x13533e390>"
      ]
     },
     "execution_count": 242,
     "metadata": {},
     "output_type": "execute_result"
    },
    {
     "data": {
      "image/png": "[encoded data removed]",
      "text/plain": [
       "<Figure size 432x432 with 1 Axes>"
      ]
     },
     "metadata": {},
     "output_type": "display_data"
    }
   ],
   "source": [
    "##Plotting 2D\n",
    "\n",
    "fig2 = plt.figure(figsize = (6,6))\n",
    "ax3 = fig2.add_subplot(1,1,1) \n",
    "ax3.set_xlabel('Component principal 1', fontsize = 10)\n",
    "ax3.set_ylabel('Component principal 2', fontsize = 10)\n",
    "#ax3.set_title('PCA 2D - Totes les dades - Tf idf', fontsize = 20)\n",
    "\n",
    "targets = y.unique()\n",
    "colors = ['r', 'b','y','g','k']\n",
    "\n",
    "for target, color in zip(targets,colors):\n",
    "    indicesToKeep = principalDf5['labels'] == target\n",
    "    ax3.scatter(principalDf5.loc[indicesToKeep, 'principal component 1']\n",
    "               , principalDf5.loc[indicesToKeep, 'principal component 2'], c = color, s = 30,alpha = 0.2)\n",
    "\n",
    "ax3.legend(targets)"
   ]
  },
  {
   "cell_type": "markdown",
   "metadata": {},
   "source": [
    "### PCA 2D conjunt de train (tf-idf)"
   ]
  },
  {
   "cell_type": "code",
   "execution_count": 243,
   "metadata": {},
   "outputs": [
    {
     "data": {
      "text/html": [
       "<div>\n",
       "<style scoped>\n",
       "    .dataframe tbody tr th:only-of-type {\n",
       "        vertical-align: middle;\n",
       "    }\n",
       "\n",
       "    .dataframe tbody tr th {\n",
       "        vertical-align: top;\n",
       "    }\n",
       "\n",
       "    .dataframe thead th {\n",
       "        text-align: right;\n",
       "    }\n",
       "</style>\n",
       "<table border=\"1\" class=\"dataframe\">\n",
       "  <thead>\n",
       "    <tr style=\"text-align: right;\">\n",
       "      <th></th>\n",
       "      <th>principal component 1</th>\n",
       "      <th>principal component 2</th>\n",
       "      <th>labels</th>\n",
       "    </tr>\n",
       "  </thead>\n",
       "  <tbody>\n",
       "    <tr>\n",
       "      <th>0</th>\n",
       "      <td>-0.097255</td>\n",
       "      <td>0.287609</td>\n",
       "      <td>Automobil</td>\n",
       "    </tr>\n",
       "    <tr>\n",
       "      <th>1</th>\n",
       "      <td>-0.002699</td>\n",
       "      <td>-0.181357</td>\n",
       "      <td>Mecanica_fluids</td>\n",
       "    </tr>\n",
       "    <tr>\n",
       "      <th>2</th>\n",
       "      <td>-0.107681</td>\n",
       "      <td>0.112081</td>\n",
       "      <td>Electronica</td>\n",
       "    </tr>\n",
       "    <tr>\n",
       "      <th>3</th>\n",
       "      <td>-0.109071</td>\n",
       "      <td>0.101515</td>\n",
       "      <td>Biomedicina</td>\n",
       "    </tr>\n",
       "    <tr>\n",
       "      <th>4</th>\n",
       "      <td>0.002822</td>\n",
       "      <td>-0.152466</td>\n",
       "      <td>Biomedicina</td>\n",
       "    </tr>\n",
       "  </tbody>\n",
       "</table>\n",
       "</div>"
      ],
      "text/plain": [
       "   principal component 1  principal component 2           labels\n",
       "0              -0.097255               0.287609        Automobil\n",
       "1              -0.002699              -0.181357  Mecanica_fluids\n",
       "2              -0.107681               0.112081      Electronica\n",
       "3              -0.109071               0.101515      Biomedicina\n",
       "4               0.002822              -0.152466      Biomedicina"
      ]
     },
     "execution_count": 243,
     "metadata": {},
     "output_type": "execute_result"
    }
   ],
   "source": [
    "input_PCA_full_cv1 = X_train_dtm3.toarray()\n",
    "pca6 = PCA(n_components=2)\n",
    "principalComponents = pca6.fit_transform(input_PCA_full_cv1)\n",
    "principalDf6 = pd.DataFrame(data = principalComponents, columns = ['principal component 1', 'principal component 2'])\n",
    "principalDf6['labels'] = list(y_train)\n",
    "principalDf6.head(5)"
   ]
  },
  {
   "cell_type": "code",
   "execution_count": 244,
   "metadata": {},
   "outputs": [
    {
     "name": "stdout",
     "output_type": "stream",
     "text": [
      "El component principal 1 conté un ratio de variança = 0.029565125067284946 mentre que el component principal 2 conté un ratio de variança de 0.02590609327226379\n"
     ]
    }
   ],
   "source": [
    "explained_variance = pca6.explained_variance_ratio_\n",
    "print('El component principal 1 conté un ratio de variança = '+str(explained_variance[0])+' mentre que el component principal 2 conté un ratio de variança de '+str(explained_variance[1]))\n"
   ]
  },
  {
   "cell_type": "code",
   "execution_count": 245,
   "metadata": {},
   "outputs": [
    {
     "data": {
      "text/plain": [
       "<matplotlib.legend.Legend at 0x12d317278>"
      ]
     },
     "execution_count": 245,
     "metadata": {},
     "output_type": "execute_result"
    },
    {
     "data": {
      "image/png": "[encoded data removed]",
      "text/plain": [
       "<Figure size 432x432 with 1 Axes>"
      ]
     },
     "metadata": {},
     "output_type": "display_data"
    }
   ],
   "source": [
    "##Plotting 2D\n",
    "\n",
    "fig2 = plt.figure(figsize = (6,6))\n",
    "ax3 = fig2.add_subplot(1,1,1) \n",
    "ax3.set_xlabel('Component principal 1', fontsize = 10)\n",
    "ax3.set_ylabel('Component principal 2', fontsize = 10)\n",
    "#ax3.set_title('PCA 2D - Conjunt de train - Tf idf', fontsize = 20)\n",
    "\n",
    "targets = y.unique()\n",
    "colors = ['r', 'b','y','g','k']\n",
    "\n",
    "for target, color in zip(targets,colors):\n",
    "    indicesToKeep = principalDf6['labels'] == target\n",
    "    ax3.scatter(principalDf6.loc[indicesToKeep, 'principal component 1']\n",
    "               , principalDf6.loc[indicesToKeep, 'principal component 2'], c = color, s = 30,alpha = 0.2)\n",
    "\n",
    "ax3.legend(targets)"
   ]
  },
  {
   "cell_type": "markdown",
   "metadata": {},
   "source": [
    "## WORD2VEC"
   ]
  },
  {
   "cell_type": "code",
   "execution_count": 246,
   "metadata": {},
   "outputs": [],
   "source": [
    "import multiprocessing\n",
    "from gensim.models import Word2Vec"
   ]
  },
  {
   "cell_type": "code",
   "execution_count": 247,
   "metadata": {},
   "outputs": [],
   "source": [
    "#PASSOS A REALITZAR\n",
    "#1. Inicialitzo el word2vec amb els paràmetres necessaris i creo un vocabulari a partir de totes les paraules \n",
    "#que hi ha dins del meu conjunt de documents .txt. S'ha de fer un pre-processament inicial per eliminar:\n",
    "#stopwords, fer stemming, elminar signes de puntuació i transformar a lower. \n",
    "#2. Entreno el word2vec amb tot el vocabulari\n",
    "#3. Tokenitzo paraules conjunt train i test i les filtro per només quedar-me amb les que formen part del meu vocabulari\n",
    "#4. Transformo paraules a vectors\n",
    "#5. Calculo la mitjana de cada dimensió del vector per tal de tenir un mateix valor per inserir al model matemàtic \n",
    "#--> Resoulting vector would be your feature title representation\n",
    "#6. Entreno al classificador amb el conjunt de train i evaluo en el conjunt de test"
   ]
  },
  {
   "cell_type": "markdown",
   "metadata": {},
   "source": [
    "##### Creació del vocabulari pel word2vec"
   ]
  },
  {
   "cell_type": "code",
   "execution_count": 248,
   "metadata": {},
   "outputs": [],
   "source": [
    "llista_text_documents_automobil = []\n",
    "llista_text_documents_biomedicina = []\n",
    "llista_text_documents_electronica = []\n",
    "llista_text_documents_mecanica_fluids = []\n",
    "\n",
    "for file in glob.glob('../00Data/dataset_txt/Biomedicina/*'):\n",
    "    with open(file,'r') as txt:\n",
    "        llista_text_documents_biomedicina.append(txt.read())\n",
    "\n",
    "for file in glob.glob('../00Data/dataset_txt/Electronica/*'):\n",
    "    with open(file,'r') as txt:\n",
    "        llista_text_documents_electronica.append(txt.read())\n",
    "        \n",
    "for file in glob.glob('../00Data/dataset_txt/Mecanica_fluids/*'):\n",
    "    with open(file,'r') as txt:\n",
    "        llista_text_documents_mecanica_fluids.append(txt.read())\n",
    "        \n",
    "for file in glob.glob('../00Data/dataset_txt/Automobil/*'):\n",
    "    with open(file,'r') as txt:\n",
    "        llista_text_documents_automobil.append(txt.read())\n",
    "        \n",
    "#Ajunto tot el text de tots els documents en una unica llista per tal de processar-ho i tokenitzar-ho tot per\n",
    "#obtenir el vocabulari necessàri pel word2vec\n",
    "all_documents = llista_text_documents_automobil + llista_text_documents_biomedicina + llista_text_documents_electronica + llista_text_documents_mecanica_fluids"
   ]
  },
  {
   "cell_type": "code",
   "execution_count": 249,
   "metadata": {},
   "outputs": [],
   "source": [
    "vocab_words = []\n",
    "\n",
    "for tfg in all_documents:\n",
    "    tfg = tfg.replace('\\n',' ')\n",
    "    for parag in tfg.split(' '):\n",
    "        word_tokens = nltk.word_tokenize(parag)\n",
    "        filtered_text = \" \".join([w for w in word_tokens if not w in stopwords.words('spanish')])\n",
    "        stemmed_text = \" \".join(stemmer.stem(word) for word in nltk.word_tokenize(filtered_text))\n",
    "        no_punctuaction_text = re.sub(r'[^\\w\\s]','',stemmed_text)\n",
    "        no_digits_text = re.sub('\\d', '', no_punctuaction_text)\n",
    "        vocab_words.append(nltk.word_tokenize(no_digits_text))\n",
    "\n",
    "    vocab_words"
   ]
  },
  {
   "cell_type": "code",
   "execution_count": 250,
   "metadata": {},
   "outputs": [
    {
     "data": {
      "text/plain": [
       "679043"
      ]
     },
     "execution_count": 250,
     "metadata": {},
     "output_type": "execute_result"
    }
   ],
   "source": [
    "#Elimino els elements de la llista buits\n",
    "vocab_words_clean = [x for x in vocab_words if x != []]\n",
    "len(vocab_words_clean)"
   ]
  },
  {
   "cell_type": "code",
   "execution_count": 251,
   "metadata": {},
   "outputs": [
    {
     "name": "stdout",
     "output_type": "stream",
     "text": [
      "CPU times: user 2 µs, sys: 0 ns, total: 2 µs\n",
      "Wall time: 4.77 µs\n"
     ]
    }
   ],
   "source": [
    "#Inicialitzo el word2vec i li insereixo el vocabulari en el qual es basarà.\n",
    "from gensim.models import Word2Vec\n",
    "%time\n",
    "w2v_model = Word2Vec(vocab_words_clean,\n",
    "                     size=50, #Dimensió del vector\n",
    "                     min_count=3, #Mínima d'aparaicions al vocabulari per ser considerat\n",
    "                     window=2, #Paraules com a context\n",
    "                     workers=4) #Número de fils d'execució         "
   ]
  },
  {
   "cell_type": "code",
   "execution_count": 252,
   "metadata": {},
   "outputs": [
    {
     "data": {
      "text/plain": [
       "12310"
      ]
     },
     "execution_count": 252,
     "metadata": {},
     "output_type": "execute_result"
    }
   ],
   "source": [
    "len(w2v_model.wv.vocab) #Vocabulari del word2vec"
   ]
  },
  {
   "cell_type": "code",
   "execution_count": 253,
   "metadata": {},
   "outputs": [],
   "source": [
    "#S'han de filtrar les paraules dels títols dels TFG de tal manera que només es mantinguin aquelles que formen part\n",
    "#del vocabulari del word2vec. Un cop fet això, ja disposaré d'un vector per a cada paraula.\n",
    "\n",
    "#L'objectiu és  transformar els títols a FEATURES a partir dels vectors. Per a això, s'ha de calcular la mitjana\n",
    "#de de cada dimensió de cada paraula que forma part d'un mateix títol. És a dir, si un títol te 5 paraules i la dimensió\n",
    "#del word2vec és de 50. Hauré de calcular la mitjana dels valors de cada dimensió de les 5 paraules 50 cops.\n",
    "\n",
    "#Un cop tingui els features dels títols, podré entrenar un classificador i validar."
   ]
  },
  {
   "cell_type": "code",
   "execution_count": 254,
   "metadata": {},
   "outputs": [],
   "source": [
    "#1. Filtrar les paraules dels títols de train i test en les conegudes pel word2vec\n",
    "\n",
    "titulo_tokenizado_train = [] \n",
    "for element in X_train.tolist(): \n",
    "    titulo_tokenizado_train.append(nltk.word_tokenize(element))\n",
    "    \n",
    "filtered_title_train = []\n",
    "for title in titulo_tokenizado_train:\n",
    "    filtered_title_train.append([word for word in title if word in w2v_model.wv.vocab])\n",
    "    \n",
    "titulo_tokenizado_test = [] \n",
    "for element in X_test.tolist(): \n",
    "    titulo_tokenizado_test.append(nltk.word_tokenize(element))\n",
    "    \n",
    "filtered_title_test = []\n",
    "for title in titulo_tokenizado_test:\n",
    "    filtered_title_test.append([word for word in title if word in w2v_model.wv.vocab])                             "
   ]
  },
  {
   "cell_type": "code",
   "execution_count": 255,
   "metadata": {},
   "outputs": [],
   "source": [
    "df_train = pd.DataFrame({'Title':X_train, 'Filtered_title_train' : filtered_title_train})\n",
    "df_test = pd.DataFrame({'Title':X_test, 'Filtered_title_test' : filtered_title_test})"
   ]
  },
  {
   "cell_type": "code",
   "execution_count": 256,
   "metadata": {},
   "outputs": [
    {
     "data": {
      "text/html": [
       "<div>\n",
       "<style scoped>\n",
       "    .dataframe tbody tr th:only-of-type {\n",
       "        vertical-align: middle;\n",
       "    }\n",
       "\n",
       "    .dataframe tbody tr th {\n",
       "        vertical-align: top;\n",
       "    }\n",
       "\n",
       "    .dataframe thead th {\n",
       "        text-align: right;\n",
       "    }\n",
       "</style>\n",
       "<table border=\"1\" class=\"dataframe\">\n",
       "  <thead>\n",
       "    <tr style=\"text-align: right;\">\n",
       "      <th></th>\n",
       "      <th>Title</th>\n",
       "      <th>Filtered_title_train</th>\n",
       "    </tr>\n",
       "  </thead>\n",
       "  <tbody>\n",
       "    <tr>\n",
       "      <th>18</th>\n",
       "      <td>disen analisis vehicul electr liger movil urba...</td>\n",
       "      <td>[disen, analisis, vehicul, electr, liger, movi...</td>\n",
       "    </tr>\n",
       "    <tr>\n",
       "      <th>5</th>\n",
       "      <td>estudi dinam vuel girodin helicopter compuest</td>\n",
       "      <td>[estudi, dinam, vuel, girodin, helicopter, com...</td>\n",
       "    </tr>\n",
       "    <tr>\n",
       "      <th>20</th>\n",
       "      <td>disen implentacion amplif audi clas d control ...</td>\n",
       "      <td>[disen, amplif, audi, clas, d, control, bas, m...</td>\n",
       "    </tr>\n",
       "    <tr>\n",
       "      <th>11</th>\n",
       "      <td>disen sistem personaliz notif pacient riesg ca...</td>\n",
       "      <td>[disen, sistem, personaliz, notif, pacient, ri...</td>\n",
       "    </tr>\n",
       "    <tr>\n",
       "      <th>8</th>\n",
       "      <td>deteccion clasificacion diferent form eritroci...</td>\n",
       "      <td>[deteccion, clasificacion, diferent, form, eri...</td>\n",
       "    </tr>\n",
       "  </tbody>\n",
       "</table>\n",
       "</div>"
      ],
      "text/plain": [
       "                                                Title  \\\n",
       "18  disen analisis vehicul electr liger movil urba...   \n",
       "5       estudi dinam vuel girodin helicopter compuest   \n",
       "20  disen implentacion amplif audi clas d control ...   \n",
       "11  disen sistem personaliz notif pacient riesg ca...   \n",
       "8   deteccion clasificacion diferent form eritroci...   \n",
       "\n",
       "                                 Filtered_title_train  \n",
       "18  [disen, analisis, vehicul, electr, liger, movi...  \n",
       "5   [estudi, dinam, vuel, girodin, helicopter, com...  \n",
       "20  [disen, amplif, audi, clas, d, control, bas, m...  \n",
       "11  [disen, sistem, personaliz, notif, pacient, ri...  \n",
       "8   [deteccion, clasificacion, diferent, form, eri...  "
      ]
     },
     "execution_count": 256,
     "metadata": {},
     "output_type": "execute_result"
    }
   ],
   "source": [
    "df_train.head(5)"
   ]
  },
  {
   "cell_type": "code",
   "execution_count": 257,
   "metadata": {},
   "outputs": [
    {
     "data": {
      "text/plain": [
       "50"
      ]
     },
     "execution_count": 257,
     "metadata": {},
     "output_type": "execute_result"
    }
   ],
   "source": [
    "w2v_model.vector_size"
   ]
  },
  {
   "cell_type": "code",
   "execution_count": 258,
   "metadata": {
    "scrolled": true
   },
   "outputs": [],
   "source": [
    "#Em permet obtenir un vector resultant que es la feature representation dels títols de train i test\n",
    "titles_vectorized_train = []\n",
    "for title in filtered_title_train:\n",
    "    mean = []\n",
    "    for word in title:\n",
    "        mean.append(w2v_model.wv.get_vector(word))\n",
    "     \n",
    "    mean = np.array(mean).mean(axis=0)\n",
    "    titles_vectorized_train.append(mean)\n",
    "    \n",
    "    \n",
    "titles_vectorized_test = []\n",
    "for title in filtered_title_test:\n",
    "    mean = []\n",
    "    for word in title:\n",
    "        mean.append(w2v_model.wv.get_vector(word))\n",
    "    mean = np.array(mean).mean(axis=0)\n",
    "    titles_vectorized_test.append(mean)"
   ]
  },
  {
   "cell_type": "code",
   "execution_count": 259,
   "metadata": {},
   "outputs": [
    {
     "name": "stdout",
     "output_type": "stream",
     "text": [
      "59\n",
      "20\n"
     ]
    }
   ],
   "source": [
    "print(len(titles_vectorized_train))\n",
    "print(len(titles_vectorized_test))"
   ]
  },
  {
   "cell_type": "code",
   "execution_count": 260,
   "metadata": {},
   "outputs": [
    {
     "data": {
      "text/html": [
       "<div>\n",
       "<style scoped>\n",
       "    .dataframe tbody tr th:only-of-type {\n",
       "        vertical-align: middle;\n",
       "    }\n",
       "\n",
       "    .dataframe tbody tr th {\n",
       "        vertical-align: top;\n",
       "    }\n",
       "\n",
       "    .dataframe thead th {\n",
       "        text-align: right;\n",
       "    }\n",
       "</style>\n",
       "<table border=\"1\" class=\"dataframe\">\n",
       "  <thead>\n",
       "    <tr style=\"text-align: right;\">\n",
       "      <th></th>\n",
       "      <th>Title</th>\n",
       "      <th>Filtered_title_train</th>\n",
       "      <th>titles_vectorized_train</th>\n",
       "    </tr>\n",
       "  </thead>\n",
       "  <tbody>\n",
       "    <tr>\n",
       "      <th>18</th>\n",
       "      <td>disen analisis vehicul electr liger movil urba...</td>\n",
       "      <td>[disen, analisis, vehicul, electr, liger, movi...</td>\n",
       "      <td>[-0.0010420661, -0.0031679752, -0.0017333939, ...</td>\n",
       "    </tr>\n",
       "    <tr>\n",
       "      <th>5</th>\n",
       "      <td>estudi dinam vuel girodin helicopter compuest</td>\n",
       "      <td>[estudi, dinam, vuel, girodin, helicopter, com...</td>\n",
       "      <td>[7.07036e-05, 0.0003088652, 0.00028170468, -0....</td>\n",
       "    </tr>\n",
       "    <tr>\n",
       "      <th>20</th>\n",
       "      <td>disen implentacion amplif audi clas d control ...</td>\n",
       "      <td>[disen, amplif, audi, clas, d, control, bas, m...</td>\n",
       "      <td>[-0.014793817, 0.014781517, 0.004235365, -0.01...</td>\n",
       "    </tr>\n",
       "    <tr>\n",
       "      <th>11</th>\n",
       "      <td>disen sistem personaliz notif pacient riesg ca...</td>\n",
       "      <td>[disen, sistem, personaliz, notif, pacient, ri...</td>\n",
       "      <td>[-0.0011348187, 0.00041147272, -0.0013615427, ...</td>\n",
       "    </tr>\n",
       "    <tr>\n",
       "      <th>8</th>\n",
       "      <td>deteccion clasificacion diferent form eritroci...</td>\n",
       "      <td>[deteccion, clasificacion, diferent, form, eri...</td>\n",
       "      <td>[-0.0014797689, 0.004655091, 0.0020485618, -0....</td>\n",
       "    </tr>\n",
       "  </tbody>\n",
       "</table>\n",
       "</div>"
      ],
      "text/plain": [
       "                                                Title  \\\n",
       "18  disen analisis vehicul electr liger movil urba...   \n",
       "5       estudi dinam vuel girodin helicopter compuest   \n",
       "20  disen implentacion amplif audi clas d control ...   \n",
       "11  disen sistem personaliz notif pacient riesg ca...   \n",
       "8   deteccion clasificacion diferent form eritroci...   \n",
       "\n",
       "                                 Filtered_title_train  \\\n",
       "18  [disen, analisis, vehicul, electr, liger, movi...   \n",
       "5   [estudi, dinam, vuel, girodin, helicopter, com...   \n",
       "20  [disen, amplif, audi, clas, d, control, bas, m...   \n",
       "11  [disen, sistem, personaliz, notif, pacient, ri...   \n",
       "8   [deteccion, clasificacion, diferent, form, eri...   \n",
       "\n",
       "                              titles_vectorized_train  \n",
       "18  [-0.0010420661, -0.0031679752, -0.0017333939, ...  \n",
       "5   [7.07036e-05, 0.0003088652, 0.00028170468, -0....  \n",
       "20  [-0.014793817, 0.014781517, 0.004235365, -0.01...  \n",
       "11  [-0.0011348187, 0.00041147272, -0.0013615427, ...  \n",
       "8   [-0.0014797689, 0.004655091, 0.0020485618, -0....  "
      ]
     },
     "execution_count": 260,
     "metadata": {},
     "output_type": "execute_result"
    }
   ],
   "source": [
    "df_train['titles_vectorized_train'] = titles_vectorized_train\n",
    "df_test['titles_vectorized_test'] = titles_vectorized_test\n",
    "\n",
    "\n",
    "X_train_dtm4 = df_train['titles_vectorized_train']\n",
    "X_test_dtm4 = df_test['titles_vectorized_test']\n",
    "\n",
    "df_train.head(5)"
   ]
  },
  {
   "cell_type": "markdown",
   "metadata": {},
   "source": [
    "### PCA 2D word2vec title embedding - train"
   ]
  },
  {
   "cell_type": "code",
   "execution_count": 261,
   "metadata": {},
   "outputs": [
    {
     "data": {
      "text/html": [
       "<div>\n",
       "<style scoped>\n",
       "    .dataframe tbody tr th:only-of-type {\n",
       "        vertical-align: middle;\n",
       "    }\n",
       "\n",
       "    .dataframe tbody tr th {\n",
       "        vertical-align: top;\n",
       "    }\n",
       "\n",
       "    .dataframe thead th {\n",
       "        text-align: right;\n",
       "    }\n",
       "</style>\n",
       "<table border=\"1\" class=\"dataframe\">\n",
       "  <thead>\n",
       "    <tr style=\"text-align: right;\">\n",
       "      <th></th>\n",
       "      <th>principal component 1</th>\n",
       "      <th>principal component 2</th>\n",
       "      <th>labels</th>\n",
       "    </tr>\n",
       "  </thead>\n",
       "  <tbody>\n",
       "    <tr>\n",
       "      <th>0</th>\n",
       "      <td>-0.009688</td>\n",
       "      <td>-0.002715</td>\n",
       "      <td>Automobil</td>\n",
       "    </tr>\n",
       "    <tr>\n",
       "      <th>1</th>\n",
       "      <td>-0.001916</td>\n",
       "      <td>0.001463</td>\n",
       "      <td>Mecanica_fluids</td>\n",
       "    </tr>\n",
       "    <tr>\n",
       "      <th>2</th>\n",
       "      <td>0.125481</td>\n",
       "      <td>-0.007726</td>\n",
       "      <td>Electronica</td>\n",
       "    </tr>\n",
       "    <tr>\n",
       "      <th>3</th>\n",
       "      <td>0.012311</td>\n",
       "      <td>0.000338</td>\n",
       "      <td>Biomedicina</td>\n",
       "    </tr>\n",
       "    <tr>\n",
       "      <th>4</th>\n",
       "      <td>0.046943</td>\n",
       "      <td>0.002249</td>\n",
       "      <td>Biomedicina</td>\n",
       "    </tr>\n",
       "  </tbody>\n",
       "</table>\n",
       "</div>"
      ],
      "text/plain": [
       "   principal component 1  principal component 2           labels\n",
       "0              -0.009688              -0.002715        Automobil\n",
       "1              -0.001916               0.001463  Mecanica_fluids\n",
       "2               0.125481              -0.007726      Electronica\n",
       "3               0.012311               0.000338      Biomedicina\n",
       "4               0.046943               0.002249      Biomedicina"
      ]
     },
     "execution_count": 261,
     "metadata": {},
     "output_type": "execute_result"
    }
   ],
   "source": [
    "input_PCA_full_w2v1 = X_train_dtm4.tolist()\n",
    "pca7 = PCA(n_components=2)\n",
    "principalComponents = pca7.fit_transform(input_PCA_full_w2v1)\n",
    "principalDf7 = pd.DataFrame(data = principalComponents, columns = ['principal component 1', 'principal component 2'])\n",
    "principalDf7['labels'] = list(y_train)\n",
    "principalDf7.head(5)"
   ]
  },
  {
   "cell_type": "code",
   "execution_count": 262,
   "metadata": {},
   "outputs": [
    {
     "name": "stdout",
     "output_type": "stream",
     "text": [
      "El componente principal 1 conté un ratio de variança = 0.6091688903115847 mentre que el componente principal 2 conté un ratio de variança de 0.04421620457291218\n"
     ]
    }
   ],
   "source": [
    "explained_variance = pca7.explained_variance_ratio_\n",
    "print('El componente principal 1 conté un ratio de variança = '+str(explained_variance[0])+' mentre que el componente principal 2 conté un ratio de variança de '+str(explained_variance[1]))\n"
   ]
  },
  {
   "cell_type": "code",
   "execution_count": 263,
   "metadata": {},
   "outputs": [
    {
     "data": {
      "text/plain": [
       "<matplotlib.legend.Legend at 0x12bdb3940>"
      ]
     },
     "execution_count": 263,
     "metadata": {},
     "output_type": "execute_result"
    },
    {
     "data": {
      "image/png": "[encoded data removed]",
      "text/plain": [
       "<Figure size 432x432 with 1 Axes>"
      ]
     },
     "metadata": {},
     "output_type": "display_data"
    }
   ],
   "source": [
    "##Plotting 2D\n",
    "fig2 = plt.figure(figsize = (6,6))\n",
    "ax3 = fig2.add_subplot(1,1,1) \n",
    "ax3.set_xlabel('Component principal 1', fontsize = 10)\n",
    "ax3.set_ylabel('Component principal 2', fontsize = 10)\n",
    "#ax3.set_title('PCA 2D - Conjunt de train - W2V', fontsize = 20)\n",
    "\n",
    "targets = y.unique()\n",
    "colors = ['r', 'b','y','g','k']\n",
    "\n",
    "for target, color in zip(targets,colors):\n",
    "    indicesToKeep = principalDf7['labels'] == target\n",
    "    ax3.scatter(principalDf7.loc[indicesToKeep, 'principal component 1']\n",
    "               , principalDf7.loc[indicesToKeep, 'principal component 2'], c = color, s = 30,alpha = 0.2)\n",
    "\n",
    "ax3.legend(targets)"
   ]
  },
  {
   "cell_type": "markdown",
   "metadata": {},
   "source": [
    "### PCA 2D WORD2VEC - Tot el conjunt de dades"
   ]
  },
  {
   "cell_type": "code",
   "execution_count": 264,
   "metadata": {},
   "outputs": [],
   "source": [
    "all_data_w2v = X_train_dtm4.tolist() + X_test_dtm4.tolist()"
   ]
  },
  {
   "cell_type": "code",
   "execution_count": 265,
   "metadata": {},
   "outputs": [
    {
     "data": {
      "text/html": [
       "<div>\n",
       "<style scoped>\n",
       "    .dataframe tbody tr th:only-of-type {\n",
       "        vertical-align: middle;\n",
       "    }\n",
       "\n",
       "    .dataframe tbody tr th {\n",
       "        vertical-align: top;\n",
       "    }\n",
       "\n",
       "    .dataframe thead th {\n",
       "        text-align: right;\n",
       "    }\n",
       "</style>\n",
       "<table border=\"1\" class=\"dataframe\">\n",
       "  <thead>\n",
       "    <tr style=\"text-align: right;\">\n",
       "      <th></th>\n",
       "      <th>principal component 1</th>\n",
       "      <th>principal component 2</th>\n",
       "      <th>labels</th>\n",
       "    </tr>\n",
       "  </thead>\n",
       "  <tbody>\n",
       "    <tr>\n",
       "      <th>0</th>\n",
       "      <td>-0.011674</td>\n",
       "      <td>-0.003385</td>\n",
       "      <td>Automobil</td>\n",
       "    </tr>\n",
       "    <tr>\n",
       "      <th>1</th>\n",
       "      <td>-0.003998</td>\n",
       "      <td>0.001567</td>\n",
       "      <td>Mecanica_fluids</td>\n",
       "    </tr>\n",
       "    <tr>\n",
       "      <th>2</th>\n",
       "      <td>0.124287</td>\n",
       "      <td>-0.007654</td>\n",
       "      <td>Electronica</td>\n",
       "    </tr>\n",
       "    <tr>\n",
       "      <th>3</th>\n",
       "      <td>0.010320</td>\n",
       "      <td>0.000695</td>\n",
       "      <td>Biomedicina</td>\n",
       "    </tr>\n",
       "    <tr>\n",
       "      <th>4</th>\n",
       "      <td>0.044987</td>\n",
       "      <td>0.002924</td>\n",
       "      <td>Biomedicina</td>\n",
       "    </tr>\n",
       "  </tbody>\n",
       "</table>\n",
       "</div>"
      ],
      "text/plain": [
       "   principal component 1  principal component 2           labels\n",
       "0              -0.011674              -0.003385        Automobil\n",
       "1              -0.003998               0.001567  Mecanica_fluids\n",
       "2               0.124287              -0.007654      Electronica\n",
       "3               0.010320               0.000695      Biomedicina\n",
       "4               0.044987               0.002924      Biomedicina"
      ]
     },
     "execution_count": 265,
     "metadata": {},
     "output_type": "execute_result"
    }
   ],
   "source": [
    "input_PCA_full_w2v1 = all_data_w2v\n",
    "pca8 = PCA(n_components=2)\n",
    "principalComponents = pca8.fit_transform(input_PCA_full_w2v1)\n",
    "principalDf8 = pd.DataFrame(data = principalComponents, columns = ['principal component 1', 'principal component 2'])\n",
    "principalDf8['labels'] = list(y_train)+list(y_test)\n",
    "principalDf8.head(5)"
   ]
  },
  {
   "cell_type": "code",
   "execution_count": 266,
   "metadata": {},
   "outputs": [
    {
     "name": "stdout",
     "output_type": "stream",
     "text": [
      "El component principal 1 conté un ratio de variança = 0.7561222573800795 mentre que el component principal 2 conté un ratio de variança de 0.02536213380156796\n"
     ]
    }
   ],
   "source": [
    "explained_variance = pca8.explained_variance_ratio_\n",
    "print('El component principal 1 conté un ratio de variança = '+str(explained_variance[0])+' mentre que el component principal 2 conté un ratio de variança de '+str(explained_variance[1]))"
   ]
  },
  {
   "cell_type": "code",
   "execution_count": 267,
   "metadata": {},
   "outputs": [
    {
     "data": {
      "text/plain": [
       "<matplotlib.legend.Legend at 0x12bb5f400>"
      ]
     },
     "execution_count": 267,
     "metadata": {},
     "output_type": "execute_result"
    },
    {
     "data": {
      "image/png": "[encoded data removed]",
      "text/plain": [
       "<Figure size 432x432 with 1 Axes>"
      ]
     },
     "metadata": {},
     "output_type": "display_data"
    }
   ],
   "source": [
    "##Plotting 2D\n",
    "fig2 = plt.figure(figsize = (6,6))\n",
    "ax3 = fig2.add_subplot(1,1,1) \n",
    "ax3.set_xlabel('Component principal 1', fontsize = 10)\n",
    "ax3.set_ylabel('Component principal 2', fontsize = 10)\n",
    "#ax3.set_title('PCA 2D - Totes les dades - W2V', fontsize = 20)\n",
    "\n",
    "targets = y.unique()\n",
    "colors = ['r', 'b','y','g','k']\n",
    "\n",
    "for target, color in zip(targets,colors):\n",
    "    indicesToKeep = principalDf8['labels'] == target\n",
    "    ax3.scatter(principalDf8.loc[indicesToKeep, 'principal component 1']\n",
    "               , principalDf8.loc[indicesToKeep, 'principal component 2'], c = color, s = 30,alpha = 0.2)\n",
    "\n",
    "ax3.legend(targets)"
   ]
  },
  {
   "cell_type": "markdown",
   "metadata": {},
   "source": [
    "## MODELS"
   ]
  },
  {
   "cell_type": "markdown",
   "metadata": {},
   "source": [
    "### Multinomial Naive Bayes"
   ]
  },
  {
   "cell_type": "code",
   "execution_count": 268,
   "metadata": {},
   "outputs": [],
   "source": [
    "from sklearn.naive_bayes import MultinomialNB"
   ]
  },
  {
   "cell_type": "code",
   "execution_count": 269,
   "metadata": {},
   "outputs": [],
   "source": [
    "#Faig GridSearchper a cada tipus de featuring en el model MNB.\n",
    "#D'aquesta manera puc trobar els híper-paràmetres que millor s'ajusten al model \n",
    "\n",
    "param_grid = {'alpha': np.arange(0,1.1,0.1)}\n",
    "mnb_prueba = MultinomialNB()"
   ]
  },
  {
   "cell_type": "code",
   "execution_count": 270,
   "metadata": {},
   "outputs": [
    {
     "data": {
      "text/plain": [
       "{'alpha': array([0. , 0.1, 0.2, 0.3, 0.4, 0.5, 0.6, 0.7, 0.8, 0.9, 1. ])}"
      ]
     },
     "execution_count": 270,
     "metadata": {},
     "output_type": "execute_result"
    }
   ],
   "source": [
    "param_grid"
   ]
  },
  {
   "cell_type": "code",
   "execution_count": 271,
   "metadata": {
    "scrolled": true
   },
   "outputs": [
    {
     "name": "stderr",
     "output_type": "stream",
     "text": [
      "/Users/rogerlopezsantalo/anaconda3/lib/python3.6/site-packages/sklearn/model_selection/_search.py:814: DeprecationWarning: The default of the `iid` parameter will change from True to False in version 0.22 and will be removed in 0.24. This will change numeric results when test-set sizes are unequal.\n",
      "  DeprecationWarning)\n",
      "/Users/rogerlopezsantalo/anaconda3/lib/python3.6/site-packages/sklearn/model_selection/_search.py:814: DeprecationWarning: The default of the `iid` parameter will change from True to False in version 0.22 and will be removed in 0.24. This will change numeric results when test-set sizes are unequal.\n",
      "  DeprecationWarning)\n"
     ]
    },
    {
     "name": "stdout",
     "output_type": "stream",
     "text": [
      "CV CountBased Best: 0.677966 using {'alpha': 0.6000000000000001}\n",
      "CV binary Best: 0.677966 using {'alpha': 0.6000000000000001}\n",
      "Tf-idf Best: 0.644068 using {'alpha': 0.2}\n"
     ]
    },
    {
     "name": "stderr",
     "output_type": "stream",
     "text": [
      "/Users/rogerlopezsantalo/anaconda3/lib/python3.6/site-packages/sklearn/model_selection/_search.py:814: DeprecationWarning: The default of the `iid` parameter will change from True to False in version 0.22 and will be removed in 0.24. This will change numeric results when test-set sizes are unequal.\n",
      "  DeprecationWarning)\n"
     ]
    }
   ],
   "source": [
    "grid_mnb_cv_countbased = GridSearchCV(estimator=mnb_prueba, param_grid=param_grid, cv = 3,n_jobs = -1)\n",
    "grid_mnb_cv_binary = GridSearchCV(estimator=mnb_prueba, param_grid=param_grid, cv = 3,n_jobs = -1)\n",
    "grid_mnb_tfidf = GridSearchCV(estimator=mnb_prueba, param_grid=param_grid, cv = 3,n_jobs = -1)\n",
    "\n",
    "\n",
    "grid_result_1 = grid_mnb_cv_countbased.fit(X_train_dtm, y_train)\n",
    "grid_result_2= grid_mnb_cv_binary.fit(X_train_dtm2, y_train)\n",
    "grid_result_3 = grid_mnb_tfidf.fit(X_train_dtm3,y_train)\n",
    "\n",
    "\n",
    "\n",
    "\n",
    "print(\"CV CountBased Best: %f using %s\" % (grid_result_1.best_score_, grid_result_1.best_params_))\n",
    "#print(\"Execution time: \" + str((time.time() - start_time)) + ' ms'+'\\n')\n",
    "\n",
    "print(\"CV binary Best: %f using %s\" % (grid_result_2.best_score_, grid_result_2.best_params_))\n",
    "#print(\"Execution time: \" + str((time.time() - start_time)) + ' ms'+'\\n')\n",
    "\n",
    "print(\"Tf-idf Best: %f using %s\" % (grid_result_3.best_score_, grid_result_3.best_params_))\n",
    "#print(\"Execution time: \" + str((time.time() - start_time)) + ' ms'+'\\n')"
   ]
  },
  {
   "cell_type": "code",
   "execution_count": 303,
   "metadata": {},
   "outputs": [
    {
     "name": "stdout",
     "output_type": "stream",
     "text": [
      "CPU times: user 4.21 ms, sys: 9.42 ms, total: 13.6 ms\n",
      "Wall time: 14 ms\n"
     ]
    },
    {
     "data": {
      "text/plain": [
       "MultinomialNB(alpha=0.6, class_prior=None, fit_prior=True)"
      ]
     },
     "execution_count": 303,
     "metadata": {},
     "output_type": "execute_result"
    }
   ],
   "source": [
    "#Segons GridSearch, la millor opció és el featuring en CV binary i una alpha de 0.6\n",
    "#Un cop triat el millor tipus de configuració. \n",
    "#Inicialitzo un model amb aquestes característiques i avaluo sobre X_test\n",
    "\n",
    "mnb = MultinomialNB(alpha = 0.6)\n",
    "%time mnb.fit(X_train_dtm2,y_train)"
   ]
  },
  {
   "cell_type": "code",
   "execution_count": 304,
   "metadata": {},
   "outputs": [],
   "source": [
    "y_pred_class = mnb.predict(X_test_dtm2)"
   ]
  },
  {
   "cell_type": "code",
   "execution_count": 305,
   "metadata": {},
   "outputs": [
    {
     "data": {
      "text/plain": [
       "0.95"
      ]
     },
     "execution_count": 305,
     "metadata": {},
     "output_type": "execute_result"
    }
   ],
   "source": [
    "metrics.accuracy_score(y_test,y_pred_class)"
   ]
  },
  {
   "cell_type": "code",
   "execution_count": 306,
   "metadata": {},
   "outputs": [
    {
     "data": {
      "text/plain": [
       "array([[4, 0, 0, 0],\n",
       "       [0, 3, 0, 0],\n",
       "       [1, 0, 6, 0],\n",
       "       [0, 0, 0, 6]])"
      ]
     },
     "execution_count": 306,
     "metadata": {},
     "output_type": "execute_result"
    }
   ],
   "source": [
    "metrics.confusion_matrix(y_test, y_pred_class)"
   ]
  },
  {
   "cell_type": "markdown",
   "metadata": {},
   "source": [
    "### Support Vector Machine linear"
   ]
  },
  {
   "cell_type": "code",
   "execution_count": 276,
   "metadata": {},
   "outputs": [],
   "source": [
    "#Faig GridSearch per a cada tipus de featuring en el model SVM.\n",
    "#D'aquesta manera puc trobar els híper-paràmetres que millor s'ajusten al model \n",
    "param_grid2 = {'C': np.arange(1,1000,1)}\n",
    "svm = SVC(kernel='linear')"
   ]
  },
  {
   "cell_type": "code",
   "execution_count": 277,
   "metadata": {},
   "outputs": [
    {
     "name": "stderr",
     "output_type": "stream",
     "text": [
      "/Users/rogerlopezsantalo/anaconda3/lib/python3.6/site-packages/sklearn/model_selection/_search.py:814: DeprecationWarning: The default of the `iid` parameter will change from True to False in version 0.22 and will be removed in 0.24. This will change numeric results when test-set sizes are unequal.\n",
      "  DeprecationWarning)\n",
      "/Users/rogerlopezsantalo/anaconda3/lib/python3.6/site-packages/sklearn/model_selection/_search.py:814: DeprecationWarning: The default of the `iid` parameter will change from True to False in version 0.22 and will be removed in 0.24. This will change numeric results when test-set sizes are unequal.\n",
      "  DeprecationWarning)\n",
      "/Users/rogerlopezsantalo/anaconda3/lib/python3.6/site-packages/sklearn/model_selection/_search.py:814: DeprecationWarning: The default of the `iid` parameter will change from True to False in version 0.22 and will be removed in 0.24. This will change numeric results when test-set sizes are unequal.\n",
      "  DeprecationWarning)\n"
     ]
    },
    {
     "name": "stdout",
     "output_type": "stream",
     "text": [
      "CV CountBased Best: 0.711864 using {'C': 1}\n",
      "CV binary Best: 0.711864 using {'C': 1}\n",
      "Tf-idf Best: 0.711864 using {'C': 2}\n",
      "W2V Best: 0.389831 using {'C': 997}\n"
     ]
    },
    {
     "name": "stderr",
     "output_type": "stream",
     "text": [
      "/Users/rogerlopezsantalo/anaconda3/lib/python3.6/site-packages/sklearn/model_selection/_search.py:814: DeprecationWarning: The default of the `iid` parameter will change from True to False in version 0.22 and will be removed in 0.24. This will change numeric results when test-set sizes are unequal.\n",
      "  DeprecationWarning)\n"
     ]
    }
   ],
   "source": [
    "grid_svm_cv_countbased = GridSearchCV(estimator=svm, param_grid=param_grid2, cv = 3,n_jobs = -1)\n",
    "grid_svm_cv_binary = GridSearchCV(estimator=svm, param_grid=param_grid2, cv = 3,n_jobs = -1)\n",
    "grid_svm_tfidf = GridSearchCV(estimator=svm, param_grid=param_grid2, cv = 3,n_jobs = -1)\n",
    "grid_svm_w2v = GridSearchCV(estimator=svm, param_grid = param_grid2, cv=3 , n_jobs = -1)\n",
    "\n",
    "\n",
    "grid_result_4 = grid_svm_cv_countbased.fit(X_train_dtm, y_train)\n",
    "grid_result_5= grid_svm_cv_binary.fit(X_train_dtm2, y_train)\n",
    "grid_result_6 = grid_svm_tfidf.fit(X_train_dtm3,y_train)\n",
    "grid_result_7 = grid_svm_w2v.fit(X_train_dtm4.tolist(),y_train)\n",
    "\n",
    "\n",
    "\n",
    "\n",
    "print(\"CV CountBased Best: %f using %s\" % (grid_result_4.best_score_, grid_result_4.best_params_))\n",
    "#print(\"Execution time: \" + str((time.time() - start_time)) + ' ms'+'\\n')\n",
    "\n",
    "print(\"CV binary Best: %f using %s\" % (grid_result_5.best_score_, grid_result_5.best_params_))\n",
    "#print(\"Execution time: \" + str((time.time() - start_time)) + ' ms'+'\\n')\n",
    "\n",
    "print(\"Tf-idf Best: %f using %s\" % (grid_result_6.best_score_, grid_result_6.best_params_))\n",
    "#print(\"Execution time: \" + str((time.time() - start_time)) + ' ms'+'\\n')\n",
    "\n",
    "print(\"W2V Best: %f using %s\" % (grid_result_7.best_score_, grid_result_7.best_params_))\n",
    "#print(\"Execution time: \" + str((time.time() - start_time)) + ' ms'+'\\n')"
   ]
  },
  {
   "cell_type": "code",
   "execution_count": 278,
   "metadata": {},
   "outputs": [
    {
     "name": "stdout",
     "output_type": "stream",
     "text": [
      "CPU times: user 3.36 ms, sys: 1.74 ms, total: 5.1 ms\n",
      "Wall time: 3.19 ms\n"
     ]
    },
    {
     "data": {
      "text/plain": [
       "SVC(C=1, cache_size=200, class_weight=None, coef0=0.0,\n",
       "    decision_function_shape='ovr', degree=3, gamma='auto_deprecated',\n",
       "    kernel='linear', max_iter=-1, probability=False, random_state=None,\n",
       "    shrinking=True, tol=0.001, verbose=False)"
      ]
     },
     "execution_count": 278,
     "metadata": {},
     "output_type": "execute_result"
    }
   ],
   "source": [
    "#Segons GridSearch, la millor opció és el featuring en CV binary una C de 1\n",
    "#Un cop triat el millor tipus de configuració. \n",
    "#Inicialitzo un model amb aquestes característiques i avaluo sobre X_test\n",
    "\n",
    "svm_best = SVC(kernel='linear',C=1)\n",
    "%time svm_best.fit(X_train_dtm,y_train)"
   ]
  },
  {
   "cell_type": "code",
   "execution_count": 279,
   "metadata": {},
   "outputs": [],
   "source": [
    "y_pred_class2 = svm_best.predict(X_test_dtm)"
   ]
  },
  {
   "cell_type": "code",
   "execution_count": 280,
   "metadata": {},
   "outputs": [
    {
     "data": {
      "text/plain": [
       "0.9"
      ]
     },
     "execution_count": 280,
     "metadata": {},
     "output_type": "execute_result"
    }
   ],
   "source": [
    "metrics.accuracy_score(y_test,y_pred_class2)"
   ]
  },
  {
   "cell_type": "code",
   "execution_count": 281,
   "metadata": {},
   "outputs": [
    {
     "data": {
      "text/plain": [
       "array([[4, 0, 0, 0],\n",
       "       [0, 3, 0, 0],\n",
       "       [0, 1, 6, 0],\n",
       "       [0, 1, 0, 5]])"
      ]
     },
     "execution_count": 281,
     "metadata": {},
     "output_type": "execute_result"
    }
   ],
   "source": [
    "metrics.confusion_matrix(y_test, y_pred_class2)"
   ]
  },
  {
   "cell_type": "markdown",
   "metadata": {},
   "source": [
    "### Random Forest"
   ]
  },
  {
   "cell_type": "code",
   "execution_count": 282,
   "metadata": {},
   "outputs": [],
   "source": [
    "from sklearn.ensemble import RandomForestClassifier"
   ]
  },
  {
   "cell_type": "code",
   "execution_count": 283,
   "metadata": {},
   "outputs": [],
   "source": [
    "#Faig GridSearch per a cada tipus de featuring en el model Random forest.\n",
    "#D'aquesta manera puc trobar els híper-paràmetres que millor s'ajusten al model \n",
    "param_grid3 = {'n_estimators': np.arange(1,1000,100),'max_depth' : np.arange(1,20,1)}\n",
    "rf = RandomForestClassifier(random_state=4)"
   ]
  },
  {
   "cell_type": "code",
   "execution_count": 284,
   "metadata": {},
   "outputs": [
    {
     "name": "stderr",
     "output_type": "stream",
     "text": [
      "/Users/rogerlopezsantalo/anaconda3/lib/python3.6/site-packages/sklearn/model_selection/_search.py:814: DeprecationWarning: The default of the `iid` parameter will change from True to False in version 0.22 and will be removed in 0.24. This will change numeric results when test-set sizes are unequal.\n",
      "  DeprecationWarning)\n",
      "/Users/rogerlopezsantalo/anaconda3/lib/python3.6/site-packages/sklearn/model_selection/_search.py:814: DeprecationWarning: The default of the `iid` parameter will change from True to False in version 0.22 and will be removed in 0.24. This will change numeric results when test-set sizes are unequal.\n",
      "  DeprecationWarning)\n",
      "/Users/rogerlopezsantalo/anaconda3/lib/python3.6/site-packages/sklearn/model_selection/_search.py:814: DeprecationWarning: The default of the `iid` parameter will change from True to False in version 0.22 and will be removed in 0.24. This will change numeric results when test-set sizes are unequal.\n",
      "  DeprecationWarning)\n"
     ]
    },
    {
     "name": "stdout",
     "output_type": "stream",
     "text": [
      "CV CountBased Best: 0.711864 using {'max_depth': 17, 'n_estimators': 901}\n",
      "CV binary Best: 0.711864 using {'max_depth': 17, 'n_estimators': 901}\n",
      "Tf-idf Best: 0.423729 using {'max_depth': 3, 'n_estimators': 201}\n",
      "W2V Best: 0.423729 using {'max_depth': 3, 'n_estimators': 201}\n"
     ]
    },
    {
     "name": "stderr",
     "output_type": "stream",
     "text": [
      "/Users/rogerlopezsantalo/anaconda3/lib/python3.6/site-packages/sklearn/model_selection/_search.py:814: DeprecationWarning: The default of the `iid` parameter will change from True to False in version 0.22 and will be removed in 0.24. This will change numeric results when test-set sizes are unequal.\n",
      "  DeprecationWarning)\n"
     ]
    }
   ],
   "source": [
    "grid_rf_cv_countbased = GridSearchCV(estimator=rf, param_grid=param_grid3, cv = 3,n_jobs = -1)\n",
    "grid_rf_cv_binary = GridSearchCV(estimator=rf, param_grid=param_grid3, cv = 3,n_jobs = -1)\n",
    "grid_rf_tfidf = GridSearchCV(estimator=rf, param_grid=param_grid3, cv = 3,n_jobs = -1)\n",
    "grid_rf_w2v = GridSearchCV(estimator=rf, param_grid=param_grid3, cv = 3,n_jobs = -1)\n",
    "\n",
    "grid_result_8 = grid_rf_cv_countbased.fit(X_train_dtm, y_train)\n",
    "grid_result_9= grid_rf_cv_binary.fit(X_train_dtm2, y_train)\n",
    "grid_result_10 = grid_rf_tfidf.fit(X_train_dtm3,y_train)\n",
    "grid_result_19 = grid_rf_tfidf.fit(X_train_dtm4.tolist(),y_train)\n",
    "\n",
    "print(\"CV CountBased Best: %f using %s\" % (grid_result_8.best_score_, grid_result_8.best_params_))\n",
    "#print(\"Execution time: \" + str((time.time() - start_time)) + ' ms'+'\\n')\n",
    "\n",
    "print(\"CV binary Best: %f using %s\" % (grid_result_9.best_score_, grid_result_9.best_params_))\n",
    "#print(\"Execution time: \" + str((time.time() - start_time)) + ' ms'+'\\n')\n",
    "\n",
    "print(\"Tf-idf Best: %f using %s\" % (grid_result_10.best_score_, grid_result_10.best_params_))\n",
    "#print(\"Execution time: \" + str((time.time() - start_time)) + ' ms'+'\\n')\n",
    "\n",
    "print(\"W2V Best: %f using %s\" % (grid_result_19.best_score_, grid_result_19.best_params_))\n",
    "#print(\"Execution time: \" + str((time.time() - start_time)) + ' ms'+'\\n')"
   ]
  },
  {
   "cell_type": "code",
   "execution_count": 344,
   "metadata": {},
   "outputs": [
    {
     "name": "stdout",
     "output_type": "stream",
     "text": [
      "CPU times: user 567 ms, sys: 38.4 ms, total: 605 ms\n",
      "Wall time: 721 ms\n"
     ]
    },
    {
     "data": {
      "text/plain": [
       "RandomForestClassifier(bootstrap=True, class_weight=None, criterion='gini',\n",
       "                       max_depth=17, max_features='auto', max_leaf_nodes=None,\n",
       "                       min_impurity_decrease=0.0, min_impurity_split=None,\n",
       "                       min_samples_leaf=1, min_samples_split=2,\n",
       "                       min_weight_fraction_leaf=0.0, n_estimators=901,\n",
       "                       n_jobs=None, oob_score=False, random_state=17, verbose=0,\n",
       "                       warm_start=False)"
      ]
     },
     "execution_count": 344,
     "metadata": {},
     "output_type": "execute_result"
    }
   ],
   "source": [
    "#Com a resultat del GridSearch s'obté que la millor configuració pel model és:\n",
    "#Featuring amb CV binari i amb els paràmetres max_depth = 17 i n_estimators=901\n",
    "\n",
    "rf_best = RandomForestClassifier(max_depth=17,n_estimators=901,random_state=17)\n",
    "%time rf_best.fit(X_train_dtm2,y_train)"
   ]
  },
  {
   "cell_type": "code",
   "execution_count": 345,
   "metadata": {},
   "outputs": [],
   "source": [
    "y_predicted3= rf_best.predict(X_test_dtm2)"
   ]
  },
  {
   "cell_type": "code",
   "execution_count": 346,
   "metadata": {},
   "outputs": [
    {
     "data": {
      "text/plain": [
       "0.7"
      ]
     },
     "execution_count": 346,
     "metadata": {},
     "output_type": "execute_result"
    }
   ],
   "source": [
    "metrics.accuracy_score(y_test,y_predicted3)"
   ]
  },
  {
   "cell_type": "code",
   "execution_count": 347,
   "metadata": {},
   "outputs": [
    {
     "data": {
      "text/plain": [
       "array([[4, 0, 0, 0],\n",
       "       [0, 3, 0, 0],\n",
       "       [0, 5, 2, 0],\n",
       "       [0, 1, 0, 5]])"
      ]
     },
     "execution_count": 347,
     "metadata": {},
     "output_type": "execute_result"
    }
   ],
   "source": [
    "metrics.confusion_matrix(y_test,y_predicted3)"
   ]
  },
  {
   "cell_type": "markdown",
   "metadata": {},
   "source": [
    "### K Nearest Neighbors"
   ]
  },
  {
   "cell_type": "code",
   "execution_count": 289,
   "metadata": {},
   "outputs": [],
   "source": [
    "from sklearn.neighbors import KNeighborsClassifier"
   ]
  },
  {
   "cell_type": "code",
   "execution_count": 290,
   "metadata": {},
   "outputs": [],
   "source": [
    "#Faig GridSearch per a cada tipus de featuring en el model Random forest.\n",
    "#D'aquesta manera puc trobar els híper-paràmetres que millor s'ajusten al model \n",
    "param_grid4 = {'n_neighbors' : np.arange(1,15,1)}\n",
    "knn = KNeighborsClassifier()"
   ]
  },
  {
   "cell_type": "code",
   "execution_count": 291,
   "metadata": {
    "scrolled": false
   },
   "outputs": [
    {
     "name": "stderr",
     "output_type": "stream",
     "text": [
      "/Users/rogerlopezsantalo/anaconda3/lib/python3.6/site-packages/sklearn/model_selection/_search.py:814: DeprecationWarning: The default of the `iid` parameter will change from True to False in version 0.22 and will be removed in 0.24. This will change numeric results when test-set sizes are unequal.\n",
      "  DeprecationWarning)\n",
      "/Users/rogerlopezsantalo/anaconda3/lib/python3.6/site-packages/sklearn/model_selection/_search.py:814: DeprecationWarning: The default of the `iid` parameter will change from True to False in version 0.22 and will be removed in 0.24. This will change numeric results when test-set sizes are unequal.\n",
      "  DeprecationWarning)\n",
      "/Users/rogerlopezsantalo/anaconda3/lib/python3.6/site-packages/sklearn/model_selection/_search.py:814: DeprecationWarning: The default of the `iid` parameter will change from True to False in version 0.22 and will be removed in 0.24. This will change numeric results when test-set sizes are unequal.\n",
      "  DeprecationWarning)\n"
     ]
    },
    {
     "name": "stdout",
     "output_type": "stream",
     "text": [
      "CV CountBased Best: 0.457627 using {'n_neighbors': 4}\n",
      "CV binary Best: 0.457627 using {'n_neighbors': 4}\n",
      "Tf-idf Best: 0.508475 using {'n_neighbors': 3}\n",
      "W2V Best: 0.508475 using {'n_neighbors': 3}\n"
     ]
    },
    {
     "name": "stderr",
     "output_type": "stream",
     "text": [
      "/Users/rogerlopezsantalo/anaconda3/lib/python3.6/site-packages/sklearn/model_selection/_search.py:814: DeprecationWarning: The default of the `iid` parameter will change from True to False in version 0.22 and will be removed in 0.24. This will change numeric results when test-set sizes are unequal.\n",
      "  DeprecationWarning)\n"
     ]
    }
   ],
   "source": [
    "grid_knn_cv_countbased = GridSearchCV(estimator=knn, param_grid=param_grid4, cv = 3,n_jobs = -1)\n",
    "grid_knn_cv_binary = GridSearchCV(estimator=knn, param_grid=param_grid4, cv = 3,n_jobs = -1)\n",
    "grid_knn_tfidf = GridSearchCV(estimator=knn, param_grid=param_grid4, cv = 3,n_jobs = -1)\n",
    "grid_knn_w2v = GridSearchCV(estimator=knn, param_grid=param_grid4, cv = 3,n_jobs = -1)\n",
    "\n",
    "\n",
    "grid_result_11 = grid_knn_cv_countbased.fit(X_train_dtm, y_train)\n",
    "grid_result_12= grid_knn_cv_binary.fit(X_train_dtm2, y_train)\n",
    "grid_result_13 = grid_knn_tfidf.fit(X_train_dtm3,y_train)\n",
    "grid_result_14 = grid_knn_tfidf.fit(X_train_dtm4.tolist(),y_train)\n",
    "\n",
    "\n",
    "print(\"CV CountBased Best: %f using %s\" % (grid_result_11.best_score_, grid_result_11.best_params_))\n",
    "#print(\"Execution time: \" + str((time.time() - start_time)) + ' ms'+'\\n')\n",
    "\n",
    "print(\"CV binary Best: %f using %s\" % (grid_result_12.best_score_, grid_result_12.best_params_))\n",
    "#print(\"Execution time: \" + str((time.time() - start_time)) + ' ms'+'\\n')\n",
    "\n",
    "print(\"Tf-idf Best: %f using %s\" % (grid_result_13.best_score_, grid_result_13.best_params_))\n",
    "#print(\"Execution time: \" + str((time.time() - start_time)) + ' ms'+'\\n')\n",
    "\n",
    "print(\"W2V Best: %f using %s\" % (grid_result_14.best_score_, grid_result_14.best_params_))\n",
    "#print(\"Execution time: \" + str((time.time() - start_time)) + ' ms'+'\\n')"
   ]
  },
  {
   "cell_type": "code",
   "execution_count": 313,
   "metadata": {},
   "outputs": [
    {
     "name": "stdout",
     "output_type": "stream",
     "text": [
      "CPU times: user 1.21 ms, sys: 791 µs, total: 2 ms\n",
      "Wall time: 2.08 ms\n"
     ]
    },
    {
     "data": {
      "text/plain": [
       "KNeighborsClassifier(algorithm='auto', leaf_size=30, metric='minkowski',\n",
       "                     metric_params=None, n_jobs=None, n_neighbors=4, p=2,\n",
       "                     weights='uniform')"
      ]
     },
     "execution_count": 313,
     "metadata": {},
     "output_type": "execute_result"
    }
   ],
   "source": [
    "#Com a resultat del GridSearch s'obté que la millor configuració pel model és:\n",
    "#Featuring amb countvectorizer countbased i amb els paràmetres n_neighbors=4\n",
    "\n",
    "knn_best = KNeighborsClassifier(n_neighbors = 4)\n",
    "%time knn_best.fit(X_train_dtm,y_train)"
   ]
  },
  {
   "cell_type": "code",
   "execution_count": 314,
   "metadata": {},
   "outputs": [],
   "source": [
    "y_predicted4 = knn_best.predict(X_test_dtm)"
   ]
  },
  {
   "cell_type": "code",
   "execution_count": 315,
   "metadata": {},
   "outputs": [
    {
     "data": {
      "text/plain": [
       "0.6"
      ]
     },
     "execution_count": 315,
     "metadata": {},
     "output_type": "execute_result"
    }
   ],
   "source": [
    "metrics.accuracy_score(y_test,y_predicted4)"
   ]
  },
  {
   "cell_type": "code",
   "execution_count": 316,
   "metadata": {},
   "outputs": [
    {
     "data": {
      "text/plain": [
       "array([[4, 0, 0, 0],\n",
       "       [2, 0, 1, 0],\n",
       "       [5, 0, 2, 0],\n",
       "       [0, 0, 0, 6]])"
      ]
     },
     "execution_count": 316,
     "metadata": {},
     "output_type": "execute_result"
    }
   ],
   "source": [
    "metrics.confusion_matrix(y_test,y_predicted4)"
   ]
  },
  {
   "cell_type": "markdown",
   "metadata": {},
   "source": [
    "### Multinomial Logistic Regression "
   ]
  },
  {
   "cell_type": "code",
   "execution_count": 296,
   "metadata": {},
   "outputs": [],
   "source": [
    "from sklearn.linear_model import LogisticRegression"
   ]
  },
  {
   "cell_type": "code",
   "execution_count": 297,
   "metadata": {},
   "outputs": [],
   "source": [
    "#Faig GridSearch per a cada tipus de featuring en el model Random forest.\n",
    "#D'aquesta manera puc trobar els híper-paràmetres que millor s'ajusten al model \n",
    "param_grid5 = {'C' : np.arange(1,8000,5), 'solver':['lbfgs','newton-cg']}\n",
    "#Especifico que serà un problema multinomial\n",
    "mlr = LogisticRegression(multi_class='multinomial')"
   ]
  },
  {
   "cell_type": "code",
   "execution_count": 298,
   "metadata": {},
   "outputs": [
    {
     "name": "stderr",
     "output_type": "stream",
     "text": [
      "/Users/rogerlopezsantalo/anaconda3/lib/python3.6/site-packages/sklearn/model_selection/_search.py:814: DeprecationWarning: The default of the `iid` parameter will change from True to False in version 0.22 and will be removed in 0.24. This will change numeric results when test-set sizes are unequal.\n",
      "  DeprecationWarning)\n",
      "/Users/rogerlopezsantalo/anaconda3/lib/python3.6/site-packages/sklearn/model_selection/_search.py:814: DeprecationWarning: The default of the `iid` parameter will change from True to False in version 0.22 and will be removed in 0.24. This will change numeric results when test-set sizes are unequal.\n",
      "  DeprecationWarning)\n",
      "/Users/rogerlopezsantalo/anaconda3/lib/python3.6/site-packages/sklearn/model_selection/_search.py:814: DeprecationWarning: The default of the `iid` parameter will change from True to False in version 0.22 and will be removed in 0.24. This will change numeric results when test-set sizes are unequal.\n",
      "  DeprecationWarning)\n"
     ]
    },
    {
     "name": "stdout",
     "output_type": "stream",
     "text": [
      "CV CountBased Best: 0.711864 using {'C': 1, 'solver': 'lbfgs'}\n",
      "CV binary Best: 0.711864 using {'C': 1, 'solver': 'lbfgs'}\n",
      "Tf-idf Best: 0.593220 using {'C': 6686, 'solver': 'lbfgs'}\n",
      "W2V Best: 0.593220 using {'C': 6686, 'solver': 'lbfgs'}\n"
     ]
    },
    {
     "name": "stderr",
     "output_type": "stream",
     "text": [
      "/Users/rogerlopezsantalo/anaconda3/lib/python3.6/site-packages/sklearn/model_selection/_search.py:814: DeprecationWarning: The default of the `iid` parameter will change from True to False in version 0.22 and will be removed in 0.24. This will change numeric results when test-set sizes are unequal.\n",
      "  DeprecationWarning)\n",
      "/Users/rogerlopezsantalo/anaconda3/lib/python3.6/site-packages/sklearn/linear_model/logistic.py:947: ConvergenceWarning: lbfgs failed to converge. Increase the number of iterations.\n",
      "  \"of iterations.\", ConvergenceWarning)\n"
     ]
    }
   ],
   "source": [
    "grid_mlr_cv_countbased = GridSearchCV(estimator=mlr, param_grid=param_grid5, cv = 3,n_jobs = -1)\n",
    "grid_mlr_cv_binary = GridSearchCV(estimator=mlr, param_grid=param_grid5, cv = 3,n_jobs = -1)\n",
    "grid_mlr_tfidf = GridSearchCV(estimator=mlr, param_grid=param_grid5, cv = 3,n_jobs = -1)\n",
    "grid_mlr_w2v = GridSearchCV(estimator=mlr, param_grid=param_grid5, cv = 3,n_jobs = -1)\n",
    "\n",
    "\n",
    "grid_result_15 = grid_mlr_cv_countbased.fit(X_train_dtm, y_train)\n",
    "grid_result_16= grid_mlr_cv_binary.fit(X_train_dtm2, y_train)\n",
    "grid_result_17 = grid_mlr_tfidf.fit(X_train_dtm3,y_train)\n",
    "grid_result_18 = grid_mlr_tfidf.fit(X_train_dtm4.tolist(),y_train)\n",
    "\n",
    "\n",
    "\n",
    "print(\"CV CountBased Best: %f using %s\" % (grid_result_15.best_score_, grid_result_15.best_params_))\n",
    "#print(\"Execution time: \" + str((time.time() - start_time)) + ' ms'+'\\n')\n",
    "\n",
    "print(\"CV binary Best: %f using %s\" % (grid_result_16.best_score_, grid_result_16.best_params_))\n",
    "#print(\"Execution time: \" + str((time.time() - start_time)) + ' ms'+'\\n')\n",
    "\n",
    "print(\"Tf-idf Best: %f using %s\" % (grid_result_17.best_score_, grid_result_17.best_params_))\n",
    "#print(\"Execution time: \" + str((time.time() - start_time)) + ' ms'+'\\n')\n",
    "\n",
    "\n",
    "print(\"W2V Best: %f using %s\" % (grid_result_18.best_score_, grid_result_18.best_params_))\n",
    "#print(\"Execution time: \" + str((time.time() - start_time)) + ' ms'+'\\n')"
   ]
  },
  {
   "cell_type": "code",
   "execution_count": 317,
   "metadata": {},
   "outputs": [
    {
     "name": "stdout",
     "output_type": "stream",
     "text": [
      "CPU times: user 13.3 ms, sys: 812 µs, total: 14.1 ms\n",
      "Wall time: 16.2 ms\n"
     ]
    },
    {
     "data": {
      "text/plain": [
       "LogisticRegression(C=1, class_weight=None, dual=False, fit_intercept=True,\n",
       "                   intercept_scaling=1, l1_ratio=None, max_iter=100,\n",
       "                   multi_class='multinomial', n_jobs=None, penalty='l2',\n",
       "                   random_state=None, solver='lbfgs', tol=0.0001, verbose=0,\n",
       "                   warm_start=False)"
      ]
     },
     "execution_count": 317,
     "metadata": {},
     "output_type": "execute_result"
    }
   ],
   "source": [
    "#Com a resultat del GridSearch s'obté que la millor configuració pel model és:\n",
    "#Featuring amb cv binary i amb els paràmetres C = 1 i solver lbfgs\n",
    "\n",
    "mlr_best = LogisticRegression(C=1,solver='lbfgs',multi_class='multinomial')\n",
    "%time mlr_best.fit(X_train_dtm2,y_train)"
   ]
  },
  {
   "cell_type": "code",
   "execution_count": 318,
   "metadata": {},
   "outputs": [],
   "source": [
    "y_predicted5 = mlr_best.predict(X_test_dtm2)"
   ]
  },
  {
   "cell_type": "code",
   "execution_count": 319,
   "metadata": {},
   "outputs": [
    {
     "data": {
      "text/plain": [
       "0.9"
      ]
     },
     "execution_count": 319,
     "metadata": {},
     "output_type": "execute_result"
    }
   ],
   "source": [
    "metrics.accuracy_score(y_test,y_predicted5)"
   ]
  },
  {
   "cell_type": "code",
   "execution_count": 320,
   "metadata": {},
   "outputs": [
    {
     "data": {
      "text/plain": [
       "array([[4, 0, 0, 0],\n",
       "       [0, 3, 0, 0],\n",
       "       [0, 2, 5, 0],\n",
       "       [0, 0, 0, 6]])"
      ]
     },
     "execution_count": 320,
     "metadata": {},
     "output_type": "execute_result"
    }
   ],
   "source": [
    "metrics.confusion_matrix(y_test,y_predicted5)"
   ]
  },
  {
   "cell_type": "markdown",
   "metadata": {},
   "source": [
    "### Entrenar el millor algorisme amb totes les dades i descarregar-lo en un arxiu .pkl"
   ]
  },
  {
   "cell_type": "markdown",
   "metadata": {},
   "source": [
    "#### MNB + cv binary"
   ]
  },
  {
   "cell_type": "code",
   "execution_count": 333,
   "metadata": {},
   "outputs": [
    {
     "name": "stdout",
     "output_type": "stream",
     "text": [
      "CPU times: user 3.97 ms, sys: 12.4 ms, total: 16.3 ms\n",
      "Wall time: 27.4 ms\n"
     ]
    },
    {
     "data": {
      "text/plain": [
       "MultinomialNB(alpha=0.6, class_prior=None, fit_prior=True)"
      ]
     },
     "execution_count": 333,
     "metadata": {},
     "output_type": "execute_result"
    }
   ],
   "source": [
    "#Entreno amb totes les dades el millor algorisme\n",
    "mnb_definitiu = MultinomialNB(alpha=0.6)\n",
    "%time mnb_definitiu.fit(X_transf_dtm2,y)"
   ]
  },
  {
   "cell_type": "code",
   "execution_count": 334,
   "metadata": {},
   "outputs": [],
   "source": [
    "#Descarrego el model\n",
    "pkl_filename = \"model_classificacio_mnb.pkl\"\n",
    "with open('../03Models/'+pkl_filename, 'wb') as file:\n",
    "    pickle.dump(mnb_definitiu, file)"
   ]
  },
  {
   "cell_type": "code",
   "execution_count": 335,
   "metadata": {},
   "outputs": [],
   "source": [
    "#Descarrego l'extractor de features en un arxiu\n",
    "#Per descarregar-ho he de descarregar cv_max\n",
    "feature_pkl_filename = \"cv_binary.pkl\"\n",
    "with open('../03Models/'+feature_pkl_filename, 'wb') as file:\n",
    "    pickle.dump(cv_max, file)\n"
   ]
  },
  {
   "cell_type": "markdown",
   "metadata": {},
   "source": [
    "#### Prova model classificació en múltiples categories (CountVectorizer binary + mlr)"
   ]
  },
  {
   "cell_type": "code",
   "execution_count": 336,
   "metadata": {},
   "outputs": [],
   "source": [
    "with open('../03Models/classificacio/cv_binary.pkl', 'rb') as file:\n",
    "    pickle_feature = pickle.load(file)"
   ]
  },
  {
   "cell_type": "code",
   "execution_count": 337,
   "metadata": {},
   "outputs": [],
   "source": [
    "#MNB + CV BINARY\n",
    "with open('../03Models/classificacio/model_classificacio_mnb.pkl', 'rb') as file:\n",
    "    pickle_model = pickle.load(file)"
   ]
  },
  {
   "cell_type": "code",
   "execution_count": 339,
   "metadata": {},
   "outputs": [],
   "source": [
    "def prediccion(titulo):\n",
    "    stemmer = SnowballStemmer('spanish')\n",
    "    word_tokens = nltk.word_tokenize(titulo)\n",
    "    text_without_stopwords= \" \".join([w for w in word_tokens if not w in stopwords.words('spanish')])\n",
    "    stemmed_text = \" \".join(stemmer.stem(word) for word in nltk.word_tokenize(text_without_stopwords))\n",
    "    no_punctuaction_text = re.sub(r'[^\\w\\s]','',stemmed_text)\n",
    "    no_digits_text = re.sub('\\d', '', no_punctuaction_text)\n",
    "    \n",
    "    X = pickle_feature.transform(pd.Series(no_digits_text))\n",
    "    return(pickle_model.predict(X))"
   ]
  },
  {
   "cell_type": "code",
   "execution_count": 340,
   "metadata": {},
   "outputs": [
    {
     "data": {
      "text/plain": [
       "array(['Biomedicina'], dtype='<U15')"
      ]
     },
     "execution_count": 340,
     "metadata": {},
     "output_type": "execute_result"
    }
   ],
   "source": [
    "prediccion('La intubación en pacientes')"
   ]
  },
  {
   "cell_type": "code",
   "execution_count": 341,
   "metadata": {},
   "outputs": [
    {
     "data": {
      "text/plain": [
       "array(['Electronica'], dtype='<U15')"
      ]
     },
     "execution_count": 341,
     "metadata": {},
     "output_type": "execute_result"
    }
   ],
   "source": [
    "prediccion('Sistema de regulación de temperatura de una fabrica')"
   ]
  },
  {
   "cell_type": "code",
   "execution_count": 342,
   "metadata": {},
   "outputs": [
    {
     "data": {
      "text/plain": [
       "array(['Mecanica_fluids'], dtype='<U15')"
      ]
     },
     "execution_count": 342,
     "metadata": {},
     "output_type": "execute_result"
    }
   ],
   "source": [
    "prediccion('Máquinas frigoríficas, refrigeración por compresión de vapor')"
   ]
  },
  {
   "cell_type": "code",
   "execution_count": 343,
   "metadata": {},
   "outputs": [
    {
     "data": {
      "text/plain": [
       "array(['Mecanica_fluids'], dtype='<U15')"
      ]
     },
     "execution_count": 343,
     "metadata": {},
     "output_type": "execute_result"
    }
   ],
   "source": [
    "prediccion('Curvas características de una bomba hidráulica centrífuga')"
   ]
  }
 ],
 "metadata": {
  "kernelspec": {
   "display_name": "Python 3",
   "language": "python",
   "name": "python3"
  },
  "language_info": {
   "codemirror_mode": {
    "name": "ipython",
    "version": 3
   },
   "file_extension": ".py",
   "mimetype": "text/x-python",
   "name": "python",
   "nbconvert_exporter": "python",
   "pygments_lexer": "ipython3",
   "version": "3.6.5"
  }
 },
 "nbformat": 4,
 "nbformat_minor": 2
}
